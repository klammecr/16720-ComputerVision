{
 "cells": [
  {
   "cell_type": "code",
   "execution_count": null,
   "id": "951512c5",
   "metadata": {},
   "outputs": [],
   "source": []
  },
  {
   "cell_type": "markdown",
   "id": "complicated-masters",
   "metadata": {
    "deletable": false,
    "editable": false,
    "nbgrader": {
     "cell_type": "markdown",
     "checksum": "d72196188ca75f9ac7f59e6a4558853f",
     "grade": false,
     "grade_id": "q5-note1",
     "locked": true,
     "schema_version": 3,
     "solution": false,
     "task": false
    }
   },
   "source": [
    "## Question 5: Extra Credit (15 points)\n",
    "\n",
    "For extra credit, we will implement a smarter form of image blending, where seams are minimized. This can be used to handle exposure differences between stitches images, correct for motion blur, and even act as a photoshop healing tool. For examples in photo stitching, see [this link](http://www.cs.jhu.edu/~misha/Code/SMG/) or [this link](http://www.cs.jhu.edu/~misha/Code/DMG/Version4.5/)."
   ]
  },
  {
   "cell_type": "markdown",
   "id": "defensive-metabolism",
   "metadata": {
    "deletable": false,
    "editable": false,
    "nbgrader": {
     "cell_type": "markdown",
     "checksum": "a9cddd9a575ed52b79542afc11fdfe8d",
     "grade": false,
     "grade_id": "q5-note2",
     "locked": true,
     "schema_version": 3,
     "solution": false,
     "task": false
    }
   },
   "source": [
    "### 5.1 (15 points)\n",
    "\n",
    "In this section we will implement __Poisson Image Stitching__ \\[perez2003poisson\\] which can be used to create seamless photo montages. \n",
    "\n",
    "|<img align=\"center\" src=\"figure/poisson_stitching.png\" width=\"500\">|\n",
    "|:--:|\n",
    "|Fig 5.1 Example of Possion image stitching.|\n",
    "\n",
    "Write a function called $\\texttt{poisson_blend(background,foreground,mask)}$ which takes 3 equal sized images (background and foreground as RGB, mask as binary) and solves the Poisson equation, using gradients from foreground and boundary conditions from the background. \n",
    "\n",
    "**The problem will be manually graded.** Please include results from the $\\texttt{(fg1,bg1,mask1)}$ images in your write-up.\n",
    "\n",
    "*Hint:* The basic idea behind Poisson Image Stitching is to setup a linear system $A x = b$ where each row of $A$ is the gradient operator for the image pixel mask (e.g. 4 for each pixel, and -1 +1 for it's 4 neighbors), while the row in $b$ contains known gradients from the foreground. Additional rows in $A$ are pixels on the boundary, which have known values, stored in $b$. Solving for $x$ then gives you pixel values for the entire masked patch. This is done for each image channel seperately. See [this page](http://www.ctralie.com/Teaching/PoissonImageEditing/) or [this page](http://cs.brown.edu/courses/csci1950-g/results/proj2/pdoran/index.html) if you need more information. "
   ]
  },
  {
   "cell_type": "code",
   "execution_count": null,
   "id": "9e5ccce1-8735-49cf-965e-94e4cd48771a",
   "metadata": {},
   "outputs": [],
   "source": []
  }
 ],
 "metadata": {
  "kernelspec": {
   "display_name": "Python 3",
   "language": "python",
   "name": "python3"
  },
  "language_info": {
   "codemirror_mode": {
    "name": "ipython",
    "version": 3
   },
   "file_extension": ".py",
   "mimetype": "text/x-python",
   "name": "python",
   "nbconvert_exporter": "python",
   "pygments_lexer": "ipython3",
   "version": "3.8.8"
  }
 },
 "nbformat": 4,
 "nbformat_minor": 5
}
