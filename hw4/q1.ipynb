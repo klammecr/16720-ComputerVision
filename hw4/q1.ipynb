{
 "cells": [
  {
   "cell_type": "code",
   "execution_count": null,
   "id": "88e226f4",
   "metadata": {},
   "outputs": [],
   "source": []
  },
  {
   "cell_type": "markdown",
   "id": "vanilla-policy",
   "metadata": {
    "deletable": false,
    "editable": false,
    "nbgrader": {
     "cell_type": "markdown",
     "checksum": "08a905884dc400252e26c247cd853a9c",
     "grade": false,
     "grade_id": "q1-note1",
     "locked": true,
     "schema_version": 3,
     "solution": false,
     "task": false
    }
   },
   "source": [
    "<img align=\"center\" src=\"figure/course.png\" width=\"800\">\n",
    "\n",
    "## Assignment 4 - Homography\n",
    "   **Instructor:** Kris\n",
    "   \n",
    "   **TAs:** Yan (Lead), Qichen, Paritosh, Rawal, Zen, Wen-Hsuan\n",
    "\n",
    "<img align=\"center\" src=\"figure/homography.jpg\" width=\"500\">\n",
    "\n",
    "---"
   ]
  },
  {
   "cell_type": "markdown",
   "id": "expired-modification",
   "metadata": {
    "deletable": false,
    "editable": false,
    "nbgrader": {
     "cell_type": "markdown",
     "checksum": "90d6d6a6e781d4183b528544a2045ee4",
     "grade": false,
     "grade_id": "q1-note2",
     "locked": true,
     "schema_version": 3,
     "solution": false,
     "task": false
    }
   },
   "source": [
    "## Question 1: Homography Theory\n",
    "\n",
    "Suppose we have two cameras $\\mathbf{C}_1$ and $\\mathbf{C}_2$ looking at a common plane $\\Pi$ in 3D space.  Any 3D point $\\mathbf{P}$ on $\\Pi$ generates a\n",
    "projected 2D point located at $\\mathbf{p} \\equiv (u_1,v_1,1)^T$ on the first\n",
    "camera $\\mathbf{C}_1$ and $\\mathbf{q} \\equiv (u_2,v_2,1)^T$ on the second camera\n",
    "$\\mathbf{C}_2$.  Since $\\mathbf{P}$ is confined to the plane $\\Pi$, we expect\n",
    "that there is a relationship between $\\mathbf{p}$ and $\\mathbf{q}$.  In\n",
    "particular, there exists a common 3 $\\times$ 3 matrix $\\mathbf{H}$, so that for\n",
    "any $\\mathbf{p}$ and $\\mathbf{q}$, the following conditions holds:\n",
    "\\begin{equation}\n",
    "\\mathbf{p \\equiv Hq}\n",
    "\\label{eq:homography}\n",
    "\\end{equation}\n",
    "We call this relationship **planar homography**.  Recall that both\n",
    "$\\mathbf{p}$ and $\\mathbf{q}$ are in homogeneous coordinates and the equality\n",
    "$\\equiv$ means $\\mathbf{p}$ is proportional to $\\mathbf{Hq}$ (recall homogeneous\n",
    "coordinates).  It turns out this\n",
    "relationship is also true for cameras that are related by pure rotation without the planar constraint."
   ]
  },
  {
   "cell_type": "markdown",
   "id": "manual-trail",
   "metadata": {
    "deletable": false,
    "editable": false,
    "nbgrader": {
     "cell_type": "markdown",
     "checksum": "84867b1201d44d40d53b2f2bca681d99",
     "grade": false,
     "grade_id": "q1-note3",
     "locked": true,
     "schema_version": 3,
     "solution": false,
     "task": false
    }
   },
   "source": [
    "### 1.1 Homography (5 points)\n",
    "\n",
    "Prove that there exists an $\\mathbf{H}$ that\n",
    "satisfies $\\mathbf{p \\equiv Hq}$ given two ${3 \\times 4}$ camera projection\n",
    "matrices $\\mathbf{M_1}$ and $\\mathbf{M_2}$ corresponding to cameras\n",
    "$\\mathbf{C_1}$, $\\mathbf{C_2}$ and a plane $\\Pi$.  Do not produce an actual\n",
    "algebraic expression for $\\mathbf{H}$.  All we are asking for is a proof of\n",
    "the existence of $\\mathbf{H}$.\n",
    "\n",
    "*Note: A degenerate case may happen when the\n",
    "plane $\\Pi$ contains both cameras' centers, in which case there are infinite\n",
    "choices of $\\mathbf{H}$ satisfying $\\mathbf{p \\equiv Hq}$.  You can\n",
    "ignore this case in your answer.*"
   ]
  },
  {
   "cell_type": "markdown",
   "id": "ranging-commercial",
   "metadata": {
    "deletable": false,
    "editable": false,
    "nbgrader": {
     "cell_type": "markdown",
     "checksum": "689183d5ba33c5191815f20e324d0aa0",
     "grade": false,
     "grade_id": "q1-note4",
     "locked": true,
     "schema_version": 3,
     "solution": false,
     "task": false
    }
   },
   "source": [
    "### 1.2 Homography under rotation (5 points)\n",
    "\n",
    "Prove that there exists a homography $\\mathbf{H}$ that satisfies $\\mathbf{x_1} \\equiv \\mathbf{Hx_2}$, given two cameras separated by a pure rotation. That is, for camera 1, $\\mathbf{x_1} = \\mathbf{K_1} \\begin{bmatrix} \\mathbf{I} & \\mathbf{0} \\end{bmatrix} \\mathbf{X}$ and for camera 2, $\\mathbf{x_2} = \\mathbf{K_2} \\begin{bmatrix}\\mathbf{R} & \\mathbf{0} \\end{bmatrix} \\mathbf{X}$. Note that $\\mathbf{K_1}$ and $\\mathbf{K_2}$ are the $3 \\times 3$ intrinsic matrices of the two cameras and are different. $\\mathbf{I}$ is $3 \\times 3$ identity matrix, $\\mathbf{0}$ is a $3\\times1$ zero vector and $\\mathbf{X}$ is a point in 3D space. $\\mathbf{R}$ is the $3 \\times 3$ rotation matrix of the camera."
   ]
  },
  {
   "cell_type": "markdown",
   "id": "collect-lease",
   "metadata": {
    "deletable": false,
    "editable": false,
    "nbgrader": {
     "cell_type": "markdown",
     "checksum": "ed7c9db6948ddb8877b01a20f4925db2",
     "grade": false,
     "grade_id": "q1-note5",
     "locked": true,
     "schema_version": 3,
     "solution": false,
     "task": false
    }
   },
   "source": [
    "### 1.3 Correspondences (10 points)\n",
    "\n",
    "Let $\\mathbf{x_1}$ be a set of points in an image and $\\mathbf{x_2}$ be the set of corresponding points in an image taken by another camera. Suppose there exists a homography $\\mathbf{H}$ such that:\n",
    "$\\mathbf{x^i_1} \\equiv \\mathbf{Hx^i_2}\\quad(i \\in \\{1\\dots N\\})$\n",
    "where $\\mathbf{x^i_1} = \\left[\\begin{matrix}x^i_1 & y^i_1 & 1\\end{matrix}\\right]^T$ are in homogenous coordinates, $\\mathbf{x_1^i \\in \\mathbf{x_1}}$ and $\\mathbf{H}$ is a $3 \\times 3$ matrix. For each point pair, this relation can be rewritten as\n",
    "\\begin{equation*}\n",
    "\\mathbf{A_ih} = 0\n",
    "\\end{equation*}\n",
    "where $\\mathbf{h}$ is a column vector reshaped from $\\mathbf{H}$, and $\\mathbf{A_i}$ is a matrix with elements derived from the points $\\mathbf{x^i_1}$ and $\\mathbf{x^i_2}$. This can help calculate **H** from the given point correspondences.\n",
    "\n",
    "   - How many degrees of freedom does $\\mathbf{h}$ have? (3 points)\n",
    "\n",
    "   - How many point pairs are required to solve $\\mathbf{h}$? (2 points)\n",
    "\n",
    "   - Derive $\\mathbf{A_i}$. (5 points)"
   ]
  },
  {
   "cell_type": "markdown",
   "id": "traditional-bathroom",
   "metadata": {
    "deletable": false,
    "editable": false,
    "nbgrader": {
     "cell_type": "markdown",
     "checksum": "21c1f9a3ed29227280c319a060f9a655",
     "grade": false,
     "grade_id": "q1-note6",
     "locked": true,
     "schema_version": 3,
     "solution": false,
     "task": false
    }
   },
   "source": [
    "### 1.4 Understanding homographies under rotation (5 points)\n",
    "\n",
    "Suppose that a camera is rotating about its center $\\mathbf{C}$, keeping the intrinsic parameters $\\mathbf{K}$ constant. Let $\\mathbf{H}$ be the homography that maps the view from one camera orientation to the view at a second orientation. Let $\\theta$ be the angle of rotation between the two. Show that $\\mathbf{H^2}$ is the homography corresponding to a rotation of 2$\\theta$. Please limit your answer within a couple of lines. A lengthy proof indicates that you're doing something too complicated (or wrong)."
   ]
  },
  {
   "cell_type": "markdown",
   "id": "dietary-success",
   "metadata": {
    "deletable": false,
    "editable": false,
    "nbgrader": {
     "cell_type": "markdown",
     "checksum": "fc12026419304f939c2764b0ef68890f",
     "grade": false,
     "grade_id": "q1-note7",
     "locked": true,
     "schema_version": 3,
     "solution": false,
     "task": false
    }
   },
   "source": [
    "### 1.5 Limitations of the planar homography (2 points)\n",
    "\n",
    "Why is the planar homography not completely sufficient to map any arbitrary scene image to another viewpoint? State your answer concisely in one or two sentences."
   ]
  },
  {
   "cell_type": "markdown",
   "id": "burning-submission",
   "metadata": {
    "deletable": false,
    "editable": false,
    "nbgrader": {
     "cell_type": "markdown",
     "checksum": "719b48cf270e17e6ebadf444a0df3065",
     "grade": false,
     "grade_id": "q1-note8",
     "locked": true,
     "schema_version": 3,
     "solution": false,
     "task": false
    }
   },
   "source": [
    "### 1.6 Behavior of lines under perspective projections (3 points)\n",
    "\n",
    "We stated in class that perspective projection preserves lines (a line in 3D is projected to a line in 2D). Verify algebraically that this is the case, i.e., verify that the projection $\\mathbf{P}$ in $\\mathbf{x} = \\mathbf{PX}$ preserves lines."
   ]
  }
 ],
 "metadata": {
  "kernelspec": {
   "display_name": "Python 3",
   "language": "python",
   "name": "python3"
  },
  "language_info": {
   "codemirror_mode": {
    "name": "ipython",
    "version": 3
   },
   "file_extension": ".py",
   "mimetype": "text/x-python",
   "name": "python",
   "nbconvert_exporter": "python",
   "pygments_lexer": "ipython3",
   "version": "3.8.8"
  }
 },
 "nbformat": 4,
 "nbformat_minor": 5
}
