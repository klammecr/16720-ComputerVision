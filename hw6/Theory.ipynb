{
 "cells": [
  {
   "cell_type": "markdown",
   "metadata": {
    "deletable": false,
    "editable": false,
    "nbgrader": {
     "cell_type": "markdown",
     "checksum": "7d652a58cfa010e75d4fa9c7414edd77",
     "grade": false,
     "grade_id": "cell-b2250668e6fbbab8",
     "locked": true,
     "schema_version": 3,
     "solution": false,
     "task": false
    }
   },
   "source": [
    "<img align=\"center\" src=\"img/course.png\" width=\"800\">"
   ]
  },
  {
   "cell_type": "markdown",
   "metadata": {},
   "source": [
    "# 16720 (B)  Object Tracking in Videos - Assignment 6\n",
    "    Instructor: Kris                             TAs: Arka, Rohan, Rawal, Sheng-Yu, Jinkun\n",
    "\n",
    "# Instructions\n",
    "\n",
    "This section should include the visualizations and answers to specifically highlighted questions from Q1 to Q3. This section will need to be uploaded to gradescope as a pdf and manually graded (this is a separate submission from the coding notebooks) \n",
    "\n",
    "\n",
    "1. Students are encouraged to work in groups but each student must submit their own work. Include the names of your collaborators in your write up. Code should <span style='color:red'>Not</span>  be shared or copied. Please properly give credits to others by <span style='color:red'>LISTING EVERY COLLABORATOR</span> in the writeup including any code segments that you discussed,  Please <span style='color:red'>DO NOT</span>  use external code unless permitted. Plagiarism is prohibited and may lead to failure of this course.\n",
    "\n",
    "2.  **Start early!** This homework will take a long time to complete.\n",
    "    \n",
    "3. **Questions:** If you have any question, please look at Piazza first and the FAQ page for this homework.\n",
    "\n",
    "4. All the theory question and manually graded questions should be included in a single writeup (this notebook exported as pdf or a standalone pdf file) and submitted to gradescope: pdf assignment. \n",
    "\n",
    "5. **Attempt to verify your implementation as you proceed:** If you don’t verify that your implementation is correct on toy examples, you will risk having a huge issue when you put everything together. We provide some simple checks in the notebook cells, but make sure you verify them on more complicated samples before moving forward. \n",
    "\n",
    "6. **Do not import external functions/packages other than the ones already imported in the files:** The current imported functions and packages are enough for you to complete this assignment. If you need to import other functions, please remember to comment them out after submission. Our autograder will crash if you import a new function that the gradescope server does not expect. \n",
    "\n",
    "7. Assignments that do not follow this submission rule will be **penalized up to 10\\% of the total score**."
   ]
  },
  {
   "cell_type": "markdown",
   "metadata": {
    "deletable": false,
    "editable": false,
    "nbgrader": {
     "cell_type": "markdown",
     "checksum": "2cbb4a8045c681d69dd2876c6132b780",
     "grade": false,
     "grade_id": "cell-nkj283y4kjfdedsz",
     "locked": true,
     "schema_version": 3,
     "solution": false,
     "task": false
    }
   },
   "source": [
    "# Preliminaries\n",
    "In this section, we will go through some of the basics of the Lucas-Kanade tracker and the Matthews-Baker tracker. The following table contains a summary of the variables used in the rest of the assignment.\n",
    "\n",
    "![title](img/variables.PNG)\n",
    "\n",
    "## Template\n",
    "A template describes the object of interest (eg. a car, football) which we wish to track in a video. Traditionally, the tracking algorithm is initialized with a template, which is represented by a bounding box around the object to be tracked in the first frame of the video. For each of the subsequent frames in the video, the tracker will update its estimate of the object in the image. The tracker achieves this by updating its affine warp.\n",
    "\n",
    "## Warps\n",
    "What is a warp? An image transformation or warp $\\textbf{W}$ is a function that acts on pixel coordinates $\\textbf{x} = \\left[u\\;\\;v\\right]^T$\n",
    "and maps pixel values from one place to another in an image $\\textbf{x}' =\n",
    "\\left[u'\\;\\;v'\\right]^T$. Simply put, $\\textbf{W}$ maps a pixel with coordinates $\\textbf{x} = \\left[u\\;\\;v\\right]^T$ to $\\textbf{x}' =\n",
    "\\left[u'\\;\\;v'\\right]^T$. Translation, rotation, and scaling are all examples of warps. We denote the parameters of the warp function $\\textbf{W}$ by $\\textbf{p}$: \n",
    "\n",
    "$$\n",
    "\\begin{gathered}\n",
    "\\textbf{x}'= \\textbf{W}(\\textbf{x};\\textbf{p})\n",
    "\\end{gathered}\n",
    "$$\n",
    "\n",
    "## Affine Warp\n",
    "An affine warp is a particular kind of warp that can include any combination of translation, scaling, and rotations. An affine warp can be represented by 6 parameters $\\textbf{p} = [p_1\\;p_2\\;p_3\\;p_4\\;p_5\\;p_6]^{T}$. One of the most convenient things about an affine warp is that it is linear; its action on a point with coordinates $\\textbf{x} = \\left[u\\;\\;v\\right]^T$ can be described as a matrix operation by a $3 \\times 3$ matrix $\\textbf{W}(\\textbf{p})$:,\n",
    "\n",
    "$$\n",
    "\\begin{gathered}\n",
    "\\left[ \\begin{array}{c} u' \\\\ v' \\\\ 1 \\end{array} \\right] = \\textbf{W}(\\textbf{p}) \\left[\n",
    "\\begin{array}{c} u \\\\ v \\\\ 1 \\end{array} \\right]\n",
    "\\end{gathered}\n",
    "$$\n",
    "\n",
    "$$\n",
    "\\begin{gathered}\n",
    "\\textbf{W}(\\textbf{p}) = \\begin{bmatrix} 1+p_1 & p_3 & p_5 \\\\ p_2 & 1+p_4 & p_6 \\\\ 0 & 0 & 1 \\end{bmatrix}\n",
    "\\end{gathered}\n",
    "$$\n",
    "\n",
    "Note: For convenience, when we want to refer to the warp as a function, we will use $\\textbf{W}(\\textbf{x};\\textbf{p})$ and when we want to refer to the matrix for an affine warp, we will use $\\textbf{W}(\\textbf{p})$. We will use affine warp and affine transformation interchangeably."
   ]
  },
  {
   "cell_type": "markdown",
   "metadata": {},
   "source": []
  },
  {
   "cell_type": "markdown",
   "metadata": {
    "deletable": false,
    "editable": false,
    "nbgrader": {
     "cell_type": "markdown",
     "checksum": "e9433820d0a93d83fb734962f39766cc",
     "grade": false,
     "grade_id": "cell-1b45fd1c3c38945a",
     "locked": true,
     "schema_version": 3,
     "solution": false,
     "task": false
    }
   },
   "source": [
    "# Theory Questions (30 pts)\n",
    "\n",
    "Before implementing the trackers, let's study some simple problems that will be useful during the implementation first. The answers to the below questions should be relatively short, consisting of a few lines of math and text.  \n",
    "\n",
    "## Q1.1\n",
    "Assuming the affine warp model defined above, derive the expression for the $\\frac{\\partial \\textbf{W}}{\\partial \\textbf{p}}$ in terms of the warp parameters $\\textbf{p} = [p_1\\;p_2\\;p_3\\;p_4\\;p_5\\;p_6]'$."
   ]
  },
  {
   "cell_type": "markdown",
   "metadata": {
    "deletable": false,
    "nbgrader": {
     "cell_type": "markdown",
     "checksum": "51769ea153121bc0007a4981af4d779d",
     "grade": true,
     "grade_id": "cell-ddb4d1f50ebcaec0",
     "locked": false,
     "points": 10,
     "schema_version": 3,
     "solution": true,
     "task": false
    }
   },
   "source": [
    "YOUR ANSWER HERE"
   ]
  },
  {
   "cell_type": "markdown",
   "metadata": {
    "deletable": false,
    "editable": false,
    "nbgrader": {
     "cell_type": "markdown",
     "checksum": "f3308c64e096019ce7cf7b08581cb289",
     "grade": false,
     "grade_id": "cell-fc866101ec15f385",
     "locked": true,
     "schema_version": 3,
     "solution": false,
     "task": false
    }
   },
   "source": [
    "## Q1.2\n",
    "Find the computational complexity (Big O notation) for each runtime iteration (computing $\\textbf{J}$ and $\\textbf{H}^{-1}$) of the Lucas Kanade method. Express your answers in terms of $n$, $m$ and $p$ where $n$ is the number of pixels in thetemplate $\\textbf{T}$, $m$ is the number of pixels in an input image $\\textbf{I}$ and $p$ is the number of parameters used to describe the warp $W$.\n",
    "\n",
    "You may refer to the supplementary PDF for more detailed descriptions of the algorithm."
   ]
  },
  {
   "cell_type": "markdown",
   "metadata": {},
   "source": []
  },
  {
   "cell_type": "markdown",
   "metadata": {
    "deletable": false,
    "nbgrader": {
     "cell_type": "markdown",
     "checksum": "ba829252163d38ffaacb6c82f5e57269",
     "grade": true,
     "grade_id": "cell-d618bdb98a0d5f94",
     "locked": false,
     "points": 10,
     "schema_version": 3,
     "solution": true,
     "task": false
    }
   },
   "source": [
    "YOUR ANSWER HERE"
   ]
  },
  {
   "cell_type": "markdown",
   "metadata": {
    "deletable": false,
    "editable": false,
    "nbgrader": {
     "cell_type": "markdown",
     "checksum": "d6cb4dff6239e98d33174eb80bac1eb5",
     "grade": false,
     "grade_id": "cell-9d505035dba56563",
     "locked": true,
     "schema_version": 3,
     "solution": false,
     "task": false
    }
   },
   "source": [
    "## Q1.3\n",
    "Find the computational complexity (Big O notation) for the initialization step (Precomputing $\\textbf{J}$ and $\\textbf{H}^{-1}$) and for each runtime iteration of the Matthews-Baker method. Express your answers in terms of $n$, $m$ and $p$ where $n$ is the number of pixels in the template $\\textbf{T}$, $m$ is the number of pixels in an input image $\\textbf{I}$ and $p$ is the number of parameters used to describe the warp $W$. You may refer to the supplementary PDF for more detailed descriptions of the algorithm.\n",
    "\n",
    "How does this compare to the run time of the regular Lucas-Kanade method?"
   ]
  },
  {
   "cell_type": "markdown",
   "metadata": {
    "deletable": false,
    "nbgrader": {
     "cell_type": "markdown",
     "checksum": "ae37223040cd1e09dd9da48ed35c9b32",
     "grade": true,
     "grade_id": "cell-95b51fa815c97b28",
     "locked": false,
     "points": 10,
     "schema_version": 3,
     "solution": true,
     "task": false
    }
   },
   "source": [
    "YOUR ANSWER HERE"
   ]
  },
  {
   "cell_type": "markdown",
   "metadata": {
    "deletable": false,
    "editable": false,
    "nbgrader": {
     "cell_type": "markdown",
     "checksum": "2dbd3e8c0e92e6c62b8043d8bc4eec01",
     "grade": false,
     "grade_id": "cell-dbed38f544a88ed5",
     "locked": true,
     "schema_version": 3,
     "solution": false,
     "task": false
    }
   },
   "source": [
    "# Coding Questions Write-up"
   ]
  },
  {
   "cell_type": "markdown",
   "metadata": {
    "deletable": false,
    "editable": false,
    "nbgrader": {
     "cell_type": "markdown",
     "checksum": "5e4b14a6392699333126d98ae4770f0c",
     "grade": false,
     "grade_id": "cell-9d505035dba565as",
     "locked": true,
     "schema_version": 3,
     "solution": false,
     "task": false
    }
   },
   "source": [
    "## Q1.1"
   ]
  },
  {
   "cell_type": "markdown",
   "metadata": {
    "deletable": false,
    "nbgrader": {
     "cell_type": "markdown",
     "checksum": "b7059713fd50d874abbfb5d2b171af19",
     "grade": true,
     "grade_id": "cell-95b51fa815c97b21",
     "locked": false,
     "points": 10,
     "schema_version": 3,
     "solution": true,
     "task": false
    }
   },
   "source": [
    "YOUR ANSWER HERE"
   ]
  },
  {
   "cell_type": "markdown",
   "metadata": {
    "deletable": false,
    "editable": false,
    "nbgrader": {
     "cell_type": "markdown",
     "checksum": "cd67a14946eb87c0f6c4f4e2640c0543",
     "grade": false,
     "grade_id": "cell-9d505035dba56567",
     "locked": true,
     "schema_version": 3,
     "solution": false,
     "task": false
    }
   },
   "source": [
    "## Q1.2"
   ]
  },
  {
   "cell_type": "markdown",
   "metadata": {
    "deletable": false,
    "nbgrader": {
     "cell_type": "markdown",
     "checksum": "397993e9437f23f9f670651e4af9ca2c",
     "grade": true,
     "grade_id": "cell-95b51fa815c97b30",
     "locked": false,
     "points": 10,
     "schema_version": 3,
     "solution": true,
     "task": false
    }
   },
   "source": [
    "YOUR ANSWER HERE"
   ]
  },
  {
   "cell_type": "markdown",
   "metadata": {
    "deletable": false,
    "editable": false,
    "nbgrader": {
     "cell_type": "markdown",
     "checksum": "084d6da395e21296b7ecfd66c5f4d61d",
     "grade": false,
     "grade_id": "cell-9d505035dba56568",
     "locked": true,
     "schema_version": 3,
     "solution": false,
     "task": false
    }
   },
   "source": [
    "## Q2.1"
   ]
  },
  {
   "cell_type": "markdown",
   "metadata": {
    "deletable": false,
    "nbgrader": {
     "cell_type": "markdown",
     "checksum": "8ba5ee7a9ef97ddacf0c74711b9846b5",
     "grade": true,
     "grade_id": "cell-95b51fa815c97b31",
     "locked": false,
     "points": 10,
     "schema_version": 3,
     "solution": true,
     "task": false
    }
   },
   "source": [
    "YOUR ANSWER HERE"
   ]
  },
  {
   "cell_type": "markdown",
   "metadata": {
    "deletable": false,
    "editable": false,
    "nbgrader": {
     "cell_type": "markdown",
     "checksum": "e48ed28e94321846ae54b7f1a476c9ed",
     "grade": false,
     "grade_id": "cell-9d505035dba56569",
     "locked": true,
     "schema_version": 3,
     "solution": false,
     "task": false
    }
   },
   "source": [
    "## Q2.2"
   ]
  },
  {
   "cell_type": "markdown",
   "metadata": {
    "deletable": false,
    "nbgrader": {
     "cell_type": "markdown",
     "checksum": "1d25dbd47af9fb1c8dbcad4cf6d85162",
     "grade": true,
     "grade_id": "cell-95b51fa815c97b32",
     "locked": false,
     "points": 10,
     "schema_version": 3,
     "solution": true,
     "task": false
    }
   },
   "source": [
    "YOUR ANSWER HERE"
   ]
  },
  {
   "cell_type": "markdown",
   "metadata": {
    "deletable": false,
    "editable": false,
    "nbgrader": {
     "cell_type": "markdown",
     "checksum": "c18a0c2544adf1bd7ed3fda74dd08b83",
     "grade": false,
     "grade_id": "cell-9d505035dba56570",
     "locked": true,
     "schema_version": 3,
     "solution": false,
     "task": false
    }
   },
   "source": [
    "## Q3"
   ]
  },
  {
   "cell_type": "markdown",
   "metadata": {
    "deletable": false,
    "nbgrader": {
     "cell_type": "markdown",
     "checksum": "6b0b69af0161b2d4f3c5c5254a9e52d9",
     "grade": true,
     "grade_id": "cell-95b51fa815c97b33",
     "locked": false,
     "points": 10,
     "schema_version": 3,
     "solution": true,
     "task": false
    }
   },
   "source": [
    "YOUR ANSWER HERE"
   ]
  },
  {
   "cell_type": "markdown",
   "metadata": {},
   "source": [
    "## Q4 (Extra Credit) Short notes on important optical flow papers (15 points)\n",
    "\n",
    "In this section we will go over three important optical flow papers and summarize them. For each paper, please follow these guidelines: \n",
    "- Please read the papers in detail, focussing on the method described in the paper. \n",
    "- For each paper, write 5 itemized points (6 max, 4 min) describing the method the authors use to solve the problem. \n",
    "- Each point should have *no more* than *2 medium length sentences* and *a math equation*. You will **lose points for verbose descriptions**.\n",
    "- By reading your summary, a person who is motivated about the optic flow problem and has the background on what optic flow is, should understand how the authors posed and solved the problem.\n",
    "- You may add one point (not exceeding max 6 points) to mention something interesting about the results of the paper. E.g. how well does it generalize, how much real world data it needs etc.  \n"
   ]
  },
  {
   "cell_type": "markdown",
   "metadata": {},
   "source": [
    "\n",
    "### Paper 1: GOTURN  (5 Pts)\n",
    "**[Learning to Track at 100 FPS with Deep Regression Networks. Held, Savarese and Thrun. ECCV'16](https://davheld.github.io/GOTURN/GOTURN.html)** \n",
    "\n",
    "Additional material: [A PyTorch implementation](https://github.com/nrupatunga/goturn-pytorch)\n",
    "\n",
    "Answer:\n",
    "- \n",
    "- \n",
    "- \n",
    "- \n",
    "- \n",
    "- "
   ]
  },
  {
   "cell_type": "markdown",
   "metadata": {},
   "source": [
    "### Paper 2: RAFT  (5 Pts)\n",
    "**[RAFT: Recurrent All-Pairs Field Transforms for Optical Flow. Teed and Deng ECCV'20](https://github.com/princeton-vl/RAFT)** \n",
    "\n",
    "Additional material: [Implementation](https://github.com/princeton-vl/RAFT), [Talk (unofficial)](https://www.youtube.com/watch?v=r3ZtW30exoo)\n",
    "\n",
    "Answer:\n",
    "- \n",
    "- \n",
    "- \n",
    "- \n",
    "- \n",
    "- "
   ]
  },
  {
   "cell_type": "markdown",
   "metadata": {},
   "source": [
    "### Paper 3: GM Flow (5 Pts)\n",
    "**[GMFlow: Learning Optical Flow via Global Matching. Xu et al. CVPR'22](https://arxiv.org/pdf/2111.13680.pdf)**\n",
    "\n",
    "Additional material: [Implementation](https://github.com/haofeixu/gmflow)\n",
    "\n",
    "Answer:\n",
    "- \n",
    "- \n",
    "- \n",
    "- \n",
    "- \n",
    "- \n",
    "  \n"
   ]
  }
 ],
 "metadata": {
  "kernelspec": {
   "display_name": "Python 3.7.9 64-bit",
   "language": "python",
   "name": "python3"
  },
  "language_info": {
   "codemirror_mode": {
    "name": "ipython",
    "version": 3
   },
   "file_extension": ".py",
   "mimetype": "text/x-python",
   "name": "python",
   "nbconvert_exporter": "python",
   "pygments_lexer": "ipython3",
   "version": "3.7.9"
  },
  "toc": {
   "base_numbering": 1,
   "nav_menu": {},
   "number_sections": false,
   "sideBar": true,
   "skip_h1_title": false,
   "title_cell": "Table of Contents",
   "title_sidebar": "Contents",
   "toc_cell": false,
   "toc_position": {},
   "toc_section_display": true,
   "toc_window_display": true
  },
  "vscode": {
   "interpreter": {
    "hash": "8a14d3cb3a8a01d6659ca21286c75f37ed68cd344cf818a36ad292d43e0de27a"
   }
  }
 },
 "nbformat": 4,
 "nbformat_minor": 2
}
