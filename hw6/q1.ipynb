{
 "cells": [
  {
   "cell_type": "markdown",
   "metadata": {
    "deletable": false,
    "editable": false,
    "nbgrader": {
     "cell_type": "markdown",
     "checksum": "408237b5cff5fd82d4e3d39e87d4e50c",
     "grade": false,
     "grade_id": "cell-2522c7288d9dd23e",
     "locked": true,
     "schema_version": 3,
     "solution": false,
     "task": false
    }
   },
   "source": [
    "<img align=\"center\" src=\"img/course.png\" width=\"800\">"
   ]
  },
  {
   "cell_type": "markdown",
   "metadata": {
    "deletable": false,
    "editable": false,
    "nbgrader": {
     "cell_type": "markdown",
     "checksum": "cb1005169c4075936fdd478b4b0d9158",
     "grade": false,
     "grade_id": "cell-3ce61291dddd1b09",
     "locked": true,
     "schema_version": 3,
     "solution": false,
     "task": false
    }
   },
   "source": [
    "# 16720 (B)  Object Tracking in Videos - Assignment 6 - Q1\n",
    "    Instructor: Kris                          TAs: Arka, Rohan, Rawal, Sheng-Yu, Jinkun\n"
   ]
  },
  {
   "cell_type": "code",
   "execution_count": null,
   "metadata": {
    "deletable": false,
    "editable": false,
    "nbgrader": {
     "cell_type": "code",
     "checksum": "24dd76f7a74685c3c7ee5bc0cef87375",
     "grade": false,
     "grade_id": "cell-4c22112d7bc3ca53",
     "locked": true,
     "schema_version": 3,
     "solution": false,
     "task": false
    }
   },
   "outputs": [],
   "source": [
    "# Libraries\n",
    "\n",
    "import numpy as np\n",
    "from scipy.interpolate import RectBivariateSpline\n",
    "from PIL import Image\n",
    "import matplotlib.pyplot as plt\n",
    "import matplotlib.patches as patches\n",
    "%matplotlib inline"
   ]
  },
  {
   "cell_type": "markdown",
   "metadata": {
    "deletable": false,
    "editable": false,
    "nbgrader": {
     "cell_type": "markdown",
     "checksum": "5082dcf37b502d84be1afd1c40a76b10",
     "grade": false,
     "grade_id": "cell-05f0109e668f5050",
     "locked": true,
     "schema_version": 3,
     "solution": false,
     "task": false
    }
   },
   "source": [
    "## Q1: Lucas-Kanade Forward Additive Alignment for Tracking\n",
    "\n",
    "### Overview\n",
    "In this part, you will implement two variants of the Lucas-Kanade Tracking algorithm:\n",
    "\n",
    "- The warp $W$ being translation only\n",
    "- The warp $W$ being the full affine transformation\n",
    "\n",
    "and evaluate them on the provided videos, which can be downloaded [here](https://www.dropbox.com/sh/l2ip26mkgf5p3e6/AACN2STT5Sk9r6bPeEXIYKZCa?dl=0). It is highly recommended that you finish the theory section first, or at the very least, go over the provided materials to gain a better understanding of the algorithms. You may also find these materials useful: [link](https://www.ri.cmu.edu/pub_files/pub3/baker_simon_2002_3/baker_simon_2002_3.pdf) and [link](https://www.ri.cmu.edu/pub_files/pub3/baker_simon_2003_3/baker_simon_2003_3.pdf).\n"
   ]
  },
  {
   "cell_type": "markdown",
   "metadata": {
    "deletable": false,
    "editable": false,
    "nbgrader": {
     "cell_type": "markdown",
     "checksum": "b50788e0e4ecc5cd680f3289bf1066fe",
     "grade": false,
     "grade_id": "cell-f025e4a2bff3944c",
     "locked": true,
     "schema_version": 3,
     "solution": false,
     "task": false
    }
   },
   "source": [
    "### Q1.1:  Lucas-Kanade Forward Additive Alignment with Translation Only (10 PT write-up, 20 PT implementation)\n",
    "Write the function with the following function signature:\n",
    "\n",
    "```\n",
    "            p = LucasKanade(It, It1, rect, thresh, maxIt)\n",
    "```\n",
    "that computes the optimal local motion $p$ represented by translation (motion in x and y directions) from frame $I_t$ to frame $I_{t+1}$that minimizes\n",
    "\n",
    "$$\n",
    "\\begin{gathered}\n",
    "\\mathcal{L}=\\sum_{\\mathbf{x}}[\\mathbf{T}(\\mathbf{x})-\\mathbf{I}(\\mathbf{W}(\\mathbf{x} ; \\mathbf{p}))]^{2}. \n",
    "\\end{gathered}\n",
    "$$\n",
    "\n",
    "\"It\" is the image frame $I_t$, \"It1\" is the image frame $I_{t+1}$, and \"rect\" is a $4×1$ vector that represents a rectangle (bounding box) on the image frame $I_t$. The four elements of the rectangle are $[x1, y1, x2, y2]$, where $(x1, y1)$ is the top-left corner and $(x2, y2)$ is the bottom-right corner of the bounding box. \"thresh\" and \"maxIt\" control when the algorithm should stop, depending on if dp is too small or the maximum number of iterations has been reached, respectively.\n",
    "\n",
    "Hints:\n",
    "- To deal with the fractional movement of the template in the bounding box, you will need to interpolate the image using scipy.interpolate.RectBivariateSpline. The same function can also be used to compute the gradient of an image at a point location.\n",
    "- You will need to iterate the estimation in Equation 10 until the change in warp parameters $(dx, dy)$ is below a threshold or the number of iterations is too large.\n",
    "- You can use np.linalg.lstsq to solve the least square problem in Equation 10.\n",
    "\n",
    "<span style='color:red'>**Output:**</span> In your write-up: Please include the results of the algorithm on all five videos we have provided along with your code."
   ]
  },
  {
   "cell_type": "code",
   "execution_count": null,
   "metadata": {
    "deletable": false,
    "nbgrader": {
     "cell_type": "code",
     "checksum": "80714361cd9cd2abfbbcf42db5b32ae4",
     "grade": false,
     "grade_id": "cell-173c56bd57d0f554",
     "locked": false,
     "schema_version": 3,
     "solution": true,
     "task": false
    }
   },
   "outputs": [],
   "source": [
    "def LucasKanade(It, It1, rect, thresh=.025, maxIt=100):\n",
    "    \n",
    "    '''\n",
    "    Q1.1: Lucas-Kanade Forward Additive Alignment with Translation Only\n",
    "    \n",
    "      Inputs: \n",
    "        It: template image\n",
    "        It1: Current image\n",
    "        rect: Current position of the object\n",
    "        (top left, bottom right coordinates, x1, y1, x2, y2)\n",
    "        thresh: Stop condition when dp is too small\n",
    "        maxIt: Maximum number of iterations to run\n",
    "        \n",
    "      Outputs:\n",
    "        p: movement vector dx, dy\n",
    "    '''\n",
    "\n",
    "    # Set thresholds (you probably want to play around with the values)\n",
    "    p = np.zeros(2) # dx, dy\n",
    "    i = 0\n",
    "    x1, y1, x2, y2 = rect\n",
    "    \n",
    "    # Set the delta parameter value   \n",
    "    dp                 = np.inf\n",
    "    y_vals             = np.arange(0, It.shape[0])\n",
    "    x_vals             = np.arange(0, It.shape[1])\n",
    "    interp_spline_temp = RectBivariateSpline(x = y_vals, y = x_vals, z = It)\n",
    "    y_vals             = np.arange(0, It1.shape[0])\n",
    "    x_vals             = np.arange(0, It1.shape[1])\n",
    "    interp_spline_curr = RectBivariateSpline(x = y_vals, y = x_vals, z = It1)\n",
    "    \n",
    "    # Get the template\n",
    "    num_x = int(x2-x1)//2\n",
    "    num_y = int(y2-y1)//2\n",
    "    x = np.linspace(x1, x2, num_x)\n",
    "    y = np.linspace(y1, y2, num_y)\n",
    "    xv, yv= np.meshgrid(x, y) # Pairs of points for x and y\n",
    "    T_x = interp_spline_temp.ev(yv, xv)\n",
    "    #T_x = T_x.T\n",
    "    while np.sum(dp**2) > thresh and i <= maxIt:\n",
    "\n",
    "      # 1. Warp the current position of the object via the parameters\n",
    "      p1_w   = np.array([x1, y1]) + p\n",
    "      p2_w   = np.array([x2, y2]) + p\n",
    "\n",
    "      # 2. Calculate the error image\n",
    "\n",
    "      # Find the points we want to use\n",
    "      x_w    = np.linspace(p1_w[0], p2_w[0], num_x)\n",
    "      y_w    = np.linspace(p1_w[1], p2_w[1], num_y)\n",
    "      xv, yv = np.meshgrid(x_w, y_w)\n",
    "      I_w_x = interp_spline_curr.ev(yv, xv)\n",
    "      # I_w_x = I_w_x.T\n",
    "      \n",
    "      # Find a by finding the image derivative of each pixel\n",
    "      I_x = interp_spline_curr.ev(yv, xv, dx = 0, dy = 1) # Have to invert x and y for dy and dx\n",
    "      I_y = interp_spline_curr.ev(yv, xv, dx = 1, dy = 0) # Have to invert x and y for dy and dx\n",
    "      #I_x = I_x.T\n",
    "      #I_y = I_y.T\n",
    "\n",
    "      # Find the A matrix, transpose it to make it of size [m, 2]\n",
    "      A = np.stack((I_x.reshape(-1), I_y.reshape(-1))).T\n",
    "\n",
    "      # This is b [m, 1]\n",
    "      I_t = T_x - I_w_x\n",
    "\n",
    "      # Compute linear least squares\n",
    "      #dp, residuals, rank, s = np.linalg.lstsq(A.T, I_t.reshape(-1), rcond = None)\n",
    "      dp = np.linalg.inv(A.T @ A) @ A.T @ I_t.flatten()\n",
    "\n",
    "      # Update p and find the parameter difference\n",
    "      p += dp\n",
    "\n",
    "      # Increment the iteration count\n",
    "      i += 1\n",
    "\n",
    "    return p"
   ]
  },
  {
   "cell_type": "code",
   "execution_count": 15,
   "metadata": {},
   "outputs": [
    {
     "ename": "TypeError",
     "evalue": "only size-1 arrays can be converted to Python scalars",
     "output_type": "error",
     "traceback": [
      "\u001b[1;31m---------------------------------------------------------------------------\u001b[0m",
      "\u001b[1;31mTypeError\u001b[0m                                 Traceback (most recent call last)",
      "\u001b[1;32m~\\AppData\\Local\\Temp\\ipykernel_19720\\2889816952.py\u001b[0m in \u001b[0;36m<module>\u001b[1;34m\u001b[0m\n\u001b[0;32m     42\u001b[0m \u001b[1;33m\u001b[0m\u001b[0m\n\u001b[0;32m     43\u001b[0m         \u001b[1;31m# run algorithm and collect rects\u001b[0m\u001b[1;33m\u001b[0m\u001b[1;33m\u001b[0m\u001b[1;33m\u001b[0m\u001b[0m\n\u001b[1;32m---> 44\u001b[1;33m         \u001b[0mdx\u001b[0m\u001b[1;33m,\u001b[0m \u001b[0mdy\u001b[0m \u001b[1;33m=\u001b[0m \u001b[0mLucasKanadeAffine\u001b[0m\u001b[1;33m(\u001b[0m\u001b[0mIt\u001b[0m\u001b[1;33m,\u001b[0m \u001b[0mIt1\u001b[0m\u001b[1;33m,\u001b[0m \u001b[0mrect\u001b[0m\u001b[1;33m)\u001b[0m\u001b[1;33m\u001b[0m\u001b[1;33m\u001b[0m\u001b[0m\n\u001b[0m\u001b[0;32m     45\u001b[0m         \u001b[0mnewRect\u001b[0m \u001b[1;33m=\u001b[0m \u001b[0mnp\u001b[0m\u001b[1;33m.\u001b[0m\u001b[0marray\u001b[0m\u001b[1;33m(\u001b[0m\u001b[1;33m[\u001b[0m\u001b[0mrect\u001b[0m\u001b[1;33m[\u001b[0m\u001b[1;36m0\u001b[0m\u001b[1;33m]\u001b[0m \u001b[1;33m+\u001b[0m \u001b[0mdx\u001b[0m\u001b[1;33m,\u001b[0m \u001b[0mrect\u001b[0m\u001b[1;33m[\u001b[0m\u001b[1;36m1\u001b[0m\u001b[1;33m]\u001b[0m \u001b[1;33m+\u001b[0m \u001b[0mdy\u001b[0m\u001b[1;33m,\u001b[0m \u001b[0mrect\u001b[0m\u001b[1;33m[\u001b[0m\u001b[1;36m0\u001b[0m\u001b[1;33m]\u001b[0m \u001b[1;33m+\u001b[0m \u001b[0mdx\u001b[0m \u001b[1;33m+\u001b[0m \u001b[0mw\u001b[0m\u001b[1;33m,\u001b[0m \u001b[0mrect\u001b[0m\u001b[1;33m[\u001b[0m\u001b[1;36m1\u001b[0m\u001b[1;33m]\u001b[0m \u001b[1;33m+\u001b[0m \u001b[0mdy\u001b[0m \u001b[1;33m+\u001b[0m \u001b[0mh\u001b[0m\u001b[1;33m]\u001b[0m\u001b[1;33m)\u001b[0m\u001b[1;33m\u001b[0m\u001b[1;33m\u001b[0m\u001b[0m\n\u001b[0;32m     46\u001b[0m         \u001b[0mrects\u001b[0m\u001b[1;33m.\u001b[0m\u001b[0mappend\u001b[0m\u001b[1;33m(\u001b[0m\u001b[0mnewRect\u001b[0m\u001b[1;33m)\u001b[0m\u001b[1;33m\u001b[0m\u001b[1;33m\u001b[0m\u001b[0m\n",
      "\u001b[1;32m~\\AppData\\Local\\Temp\\ipykernel_19720\\654496908.py\u001b[0m in \u001b[0;36mLucasKanadeAffine\u001b[1;34m(It, It1, rect, thresh, maxIt)\u001b[0m\n\u001b[0;32m     28\u001b[0m \u001b[1;33m\u001b[0m\u001b[0m\n\u001b[0;32m     29\u001b[0m     \u001b[1;31m# For calculating the template\u001b[0m\u001b[1;33m\u001b[0m\u001b[1;33m\u001b[0m\u001b[1;33m\u001b[0m\u001b[0m\n\u001b[1;32m---> 30\u001b[1;33m     \u001b[0mnum_x\u001b[0m \u001b[1;33m=\u001b[0m \u001b[0mint\u001b[0m\u001b[1;33m(\u001b[0m\u001b[0mx2\u001b[0m\u001b[1;33m-\u001b[0m\u001b[0mx1\u001b[0m\u001b[1;33m)\u001b[0m\u001b[1;33m//\u001b[0m\u001b[1;36m2\u001b[0m\u001b[1;33m\u001b[0m\u001b[1;33m\u001b[0m\u001b[0m\n\u001b[0m\u001b[0;32m     31\u001b[0m     \u001b[0mnum_y\u001b[0m \u001b[1;33m=\u001b[0m \u001b[0mint\u001b[0m\u001b[1;33m(\u001b[0m\u001b[0my2\u001b[0m\u001b[1;33m-\u001b[0m\u001b[0my1\u001b[0m\u001b[1;33m)\u001b[0m\u001b[1;33m//\u001b[0m\u001b[1;36m2\u001b[0m\u001b[1;33m\u001b[0m\u001b[1;33m\u001b[0m\u001b[0m\n\u001b[0;32m     32\u001b[0m     \u001b[0mx\u001b[0m \u001b[1;33m=\u001b[0m \u001b[0mnp\u001b[0m\u001b[1;33m.\u001b[0m\u001b[0mlinspace\u001b[0m\u001b[1;33m(\u001b[0m\u001b[0mx1\u001b[0m\u001b[1;33m,\u001b[0m \u001b[0mx2\u001b[0m\u001b[1;33m,\u001b[0m \u001b[0mnum_x\u001b[0m\u001b[1;33m)\u001b[0m\u001b[1;33m\u001b[0m\u001b[1;33m\u001b[0m\u001b[0m\n",
      "\u001b[1;31mTypeError\u001b[0m: only size-1 arrays can be converted to Python scalars"
     ]
    },
    {
     "data": {
      "image/png": "[encoded data removed]",
      "text/plain": [
       "<Figure size 640x480 with 1 Axes>"
      ]
     },
     "metadata": {},
     "output_type": "display_data"
    }
   ],
   "source": [
    "# Test your algorithm and visualize results!\n",
    "import os\n",
    "\n",
    "data_names = [\"car1\", \"car2\", \"landing\", \"race\", \"ballet\"]\n",
    "\n",
    "# Load data\n",
    "data_name = 'landing' # could choose from (car1, car2, landing, race, ballet)\n",
    "for data_name in data_names:\n",
    "    data = np.load('./data/%s.npy' % data_name)\n",
    "\n",
    "    # obtain the initial rect with format (x1, y1, x2, y2)\n",
    "    if data_name == 'car1':\n",
    "        initial = np.array([170, 130, 290, 250])\n",
    "    elif data_name == 'car2':\n",
    "        initial = np.array([59, 116, 145, 151])\n",
    "    elif data_name == 'landing':\n",
    "        initial = np.array([440, 80, 560, 140])\n",
    "    elif data_name == 'race':\n",
    "        initial = np.array([170, 270, 300, 370])\n",
    "    elif data_name == 'ballet':\n",
    "        initial = np.array([700, 210, 775, 300])\n",
    "    else:\n",
    "        assert False, 'the data name must be one of (car1, car2, landing, race, ballet)'\n",
    "\n",
    "    numFrames = data.shape[2]\n",
    "    w = initial[2] - initial[0]\n",
    "    h = initial[3] - initial[1]\n",
    "\n",
    "    # loop over frames\n",
    "    rects = []\n",
    "    rects.append(initial)\n",
    "\n",
    "    out_folder = f\"results/q1.1/{data_name}/\"\n",
    "    if not os.path.exists(out_folder):\n",
    "        os.mkdir(out_folder)\n",
    "\n",
    "    for i in range(numFrames-1):\n",
    "\n",
    "        It = data[:,:,i]\n",
    "        It1 = data[:,:,i+1]\n",
    "        rect = rects[i]\n",
    "\n",
    "        # run algorithm and collect rects\n",
    "        dx, dy = LucasKanade(It, It1, rect)\n",
    "        newRect = np.array([rect[0] + dx, rect[1] + dy, rect[0] + dx + w, rect[1] + dy + h])\n",
    "        rects.append(newRect)\n",
    "\n",
    "        # Visualize\n",
    "        fig = plt.figure(1)\n",
    "        ax = fig.add_subplot(111)\n",
    "        ax.add_patch(patches.Rectangle((rect[0], rect[1]), rect[2]-rect[0]+1, rect[3]-rect[1]+1, linewidth=2, edgecolor='red', fill=False))\n",
    "        plt.imshow(It1, cmap='gray')\n",
    "        if i%5 == 0:\n",
    "            plt.savefig(out_folder + f\"{i}.png\")\n",
    "        # plt.show()\n",
    "        ax.clear()"
   ]
  },
  {
   "cell_type": "code",
   "execution_count": null,
   "metadata": {},
   "outputs": [],
   "source": []
  },
  {
   "cell_type": "code",
   "execution_count": null,
   "metadata": {
    "deletable": false,
    "editable": false,
    "nbgrader": {
     "cell_type": "code",
     "checksum": "177cee4159cb7c2a219189a2e258c322",
     "grade": true,
     "grade_id": "q1_1",
     "locked": true,
     "points": 20,
     "schema_version": 3,
     "solution": false,
     "task": false
    }
   },
   "outputs": [],
   "source": [
    "# For some transparency: we evaluate on multiple frames in a given video starting from the first frame.\n",
    "# We then compare against the reference implementation and calculate the sum of all differences.\n",
    "# You should not need to tune anything for the autograding. We pass in the same hyperparameters for you.\n"
   ]
  },
  {
   "cell_type": "markdown",
   "metadata": {
    "deletable": false,
    "editable": false,
    "nbgrader": {
     "cell_type": "markdown",
     "checksum": "f8d9c2392cae59bef95051915caaef91",
     "grade": false,
     "grade_id": "cell-543f11c09d2dfc06",
     "locked": true,
     "schema_version": 3,
     "solution": false,
     "task": false
    }
   },
   "source": [
    "### Q1.2:  Lucas-Kanade Forward Additive Alignment with Affine Transformation (10 PT write-up, 20 PT implementation)\n",
    "Assuming that the warp is translation-only is quite limiting. Now we will assume that the warp takes on the form of an arbitrary affine transformation. Write the function with the following function signature:\n",
    "\n",
    "```\n",
    "            M = LucasKanadeAffine(It, It1, rect):\n",
    "```\n",
    "that computes the optimal local motion represented by a $2x3$ affine transformation matrix $M$ from frame $I_t$ to frame $I_{t+1}$that minimizes\n",
    "\n",
    "$$\n",
    "\\begin{gathered}\n",
    "\\mathcal{L}=\\sum_{\\mathbf{x}}[\\mathbf{T}(\\mathbf{x})-\\mathbf{I}(\\mathbf{W}(\\mathbf{x} ; \\mathbf{p}))]^{2}. \n",
    "\\end{gathered}\n",
    "$$\n",
    "\n",
    "The inputs are structured identically to the previous problem.\n",
    "\n",
    "<span style='color:red'>**Output:**</span> In your write-up: Please include the results of the algorithm on all five videos we have provided along with your code."
   ]
  },
  {
   "cell_type": "code",
   "execution_count": 28,
   "metadata": {
    "deletable": false,
    "nbgrader": {
     "cell_type": "code",
     "checksum": "034ba7c404497c09310f7ce135588736",
     "grade": false,
     "grade_id": "cell-9fbc06c726f66b80",
     "locked": false,
     "schema_version": 3,
     "solution": true,
     "task": false
    }
   },
   "outputs": [],
   "source": [
    "def LucasKanadeAffine(It, It1, rect, thresh=.025, maxIt=100):\n",
    "    '''\n",
    "    Q1.2: Lucas-Kanade Forward Additive Alignment with Affine MAtrix\n",
    "    \n",
    "      Inputs: \n",
    "        It: template image\n",
    "        It1: Current image\n",
    "        rect: Current position of the object\n",
    "        (top left, bottom right coordinates, x1, y1, x2, y2)\n",
    "        thresh: Stop condition when dp is too small\n",
    "        maxIt: Maximum number of iterations to run\n",
    "        \n",
    "      Outputs:\n",
    "        M: Affine mtarix (2x3)\n",
    "    '''\n",
    "\n",
    "    # Set thresholds (you probably want to play around with the values)\n",
    "    M = np.array([[1.,0,0], [0,1.,0]])\n",
    "    threshold = thresh\n",
    "    maxIters = maxIt\n",
    "    i = 0\n",
    "    x1, y1, x2, y2 = rect\n",
    "    dp = np.inf\n",
    "\n",
    "    # Size of image\n",
    "    x_img1 = np.arange(It1.shape[1])\n",
    "    y_img1 = np.arange(It1.shape[0])\n",
    "\n",
    "    # For calculating the template\n",
    "    num_x = np.abs(int(x2-x1)//2)\n",
    "    num_y = np.abs(int(y2-y1)//2)\n",
    "    x = np.linspace(x1, x2, num_x)\n",
    "    y = np.linspace(y1, y2, num_y)\n",
    "    x_vals, y_vals = np.meshgrid(x, y)\n",
    "    interp_spline_It = RectBivariateSpline(x = y_img1, y = x_img1, z = It)\n",
    "    T_x = interp_spline_It.ev(y_vals, x_vals)\n",
    "\n",
    "    # For calculating the interpolation of the next image\n",
    "    interp_spline_It1 = RectBivariateSpline(x = y_img1, y = x_img1, z = It1)\n",
    "\n",
    "    while np.sum(dp**2) >= threshold and i < maxIters:\n",
    "      # Warp I with W(x;p)\n",
    "      p1_w = M @ np.array([x1, y1, 1])\n",
    "      p2_w = M @ np.array([x2, y2, 1])\n",
    "\n",
    "      # 2. Find the the image pixels at the warped location\n",
    "      x_warp = np.linspace(p1_w[0], p2_w[0], num_x)\n",
    "      y_warp = np.linspace(p1_w[1], p2_w[1], num_y)\n",
    "      x_vals_warp, y_vals_warp = np.meshgrid(x_warp, y_warp)\n",
    "      I_w_x = interp_spline_It1.ev(y_vals_warp, x_vals_warp)\n",
    "\n",
    "      # 3. Compute the error image\n",
    "      I_t = T_x - I_w_x\n",
    "      I_t = I_t.flatten()\n",
    "\n",
    "      # 4. Compute the image gradient for I\n",
    "      I_x = interp_spline_It1.ev(y_vals_warp, x_vals_warp, dx = 0, dy = 1)\n",
    "      I_y = interp_spline_It1.ev(y_vals_warp, x_vals_warp, dx = 1, dy = 0)\n",
    "\n",
    "      # Step 5-6, find the jacobian and steepest descent image, J/A\n",
    "      # A1 =  x_vals.flatten() * I_x\n",
    "      # A2 =  y_vals.flatten() * I_x\n",
    "      # A4 = x_vals.flatten() * I_y\n",
    "      # A5 = y_vals.flatten() * I_y\n",
    "      # A  = np.vstack((A1, A2, I_x, A4, A5, I_y)).T\n",
    "      A1 = (x_vals * I_x).flatten()\n",
    "      A2 = (y_vals * I_x).flatten()\n",
    "      A4 = (x_vals * I_y).flatten()\n",
    "      A5 = (y_vals * I_y).flatten()\n",
    "      A  = np.vstack((A1, A2, I_x.flatten(), A4, A5, I_y.flatten())).T\n",
    "      \n",
    "      # Try this instead of leastsq?? We need psuedo inverse instead of inverse because of the size\n",
    "      # Steps 7-8 Calculate H and deltap\n",
    "      H  = A.T @ A\n",
    "      dp = np.linalg.inv(H) @ A.T @ I_t\n",
    "\n",
    "      # 9. Update the parameters\n",
    "      M += dp.reshape(2,3)\n",
    "      i+=1\n",
    "\n",
    "    return M"
   ]
  },
  {
   "cell_type": "code",
   "execution_count": 31,
   "metadata": {},
   "outputs": [
    {
     "name": "stderr",
     "output_type": "stream",
     "text": [
      "C:\\Users\\chris\\AppData\\Roaming\\Python\\Python37\\site-packages\\ipykernel_launcher.py:68: MatplotlibDeprecationWarning: Adding an axes using the same arguments as a previous axes currently reuses the earlier instance.  In a future version, a new instance will always be created and returned.  Meanwhile, this warning can be suppressed, and the future behavior ensured, by passing a unique label to each axes instance.\n"
     ]
    },
    {
     "ename": "LinAlgError",
     "evalue": "Singular matrix",
     "output_type": "error",
     "traceback": [
      "\u001b[1;31m---------------------------------------------------------------------------\u001b[0m",
      "\u001b[1;31mLinAlgError\u001b[0m                               Traceback (most recent call last)",
      "\u001b[1;32m~\\AppData\\Local\\Temp\\ipykernel_19720\\3233169961.py\u001b[0m in \u001b[0;36m<module>\u001b[1;34m\u001b[0m\n\u001b[0;32m     58\u001b[0m \u001b[1;33m\u001b[0m\u001b[0m\n\u001b[0;32m     59\u001b[0m         \u001b[1;31m# run algorithm and collect rects\u001b[0m\u001b[1;33m\u001b[0m\u001b[1;33m\u001b[0m\u001b[1;33m\u001b[0m\u001b[0m\n\u001b[1;32m---> 60\u001b[1;33m         \u001b[0mM\u001b[0m \u001b[1;33m=\u001b[0m \u001b[0mLucasKanadeAffine\u001b[0m\u001b[1;33m(\u001b[0m\u001b[0mIt\u001b[0m\u001b[1;33m,\u001b[0m \u001b[0mIt1\u001b[0m\u001b[1;33m,\u001b[0m \u001b[0mrect\u001b[0m\u001b[1;33m,\u001b[0m \u001b[0mthresh\u001b[0m\u001b[1;33m=\u001b[0m\u001b[0mthresh\u001b[0m\u001b[1;33m,\u001b[0m \u001b[0mmaxIt\u001b[0m\u001b[1;33m=\u001b[0m\u001b[0miter\u001b[0m\u001b[1;33m)\u001b[0m\u001b[1;33m\u001b[0m\u001b[1;33m\u001b[0m\u001b[0m\n\u001b[0m\u001b[0;32m     61\u001b[0m         corners = np.array([[rect[0], rect[1], 1], \n\u001b[0;32m     62\u001b[0m                             [rect[2], rect[3], 1]]).transpose()\n",
      "\u001b[1;32m~\\AppData\\Local\\Temp\\ipykernel_19720\\1706695892.py\u001b[0m in \u001b[0;36mLucasKanadeAffine\u001b[1;34m(It, It1, rect, thresh, maxIt)\u001b[0m\n\u001b[0;32m     73\u001b[0m       \u001b[1;31m# Steps 7-8 Calculate H and deltap\u001b[0m\u001b[1;33m\u001b[0m\u001b[1;33m\u001b[0m\u001b[1;33m\u001b[0m\u001b[0m\n\u001b[0;32m     74\u001b[0m       \u001b[0mH\u001b[0m  \u001b[1;33m=\u001b[0m \u001b[0mA\u001b[0m\u001b[1;33m.\u001b[0m\u001b[0mT\u001b[0m \u001b[1;33m@\u001b[0m \u001b[0mA\u001b[0m\u001b[1;33m\u001b[0m\u001b[1;33m\u001b[0m\u001b[0m\n\u001b[1;32m---> 75\u001b[1;33m       \u001b[0mdp\u001b[0m \u001b[1;33m=\u001b[0m \u001b[0mnp\u001b[0m\u001b[1;33m.\u001b[0m\u001b[0mlinalg\u001b[0m\u001b[1;33m.\u001b[0m\u001b[0minv\u001b[0m\u001b[1;33m(\u001b[0m\u001b[0mH\u001b[0m\u001b[1;33m)\u001b[0m \u001b[1;33m@\u001b[0m \u001b[0mA\u001b[0m\u001b[1;33m.\u001b[0m\u001b[0mT\u001b[0m \u001b[1;33m@\u001b[0m \u001b[0mI_t\u001b[0m\u001b[1;33m\u001b[0m\u001b[1;33m\u001b[0m\u001b[0m\n\u001b[0m\u001b[0;32m     76\u001b[0m \u001b[1;33m\u001b[0m\u001b[0m\n\u001b[0;32m     77\u001b[0m       \u001b[1;31m# 9. Update the parameters\u001b[0m\u001b[1;33m\u001b[0m\u001b[1;33m\u001b[0m\u001b[1;33m\u001b[0m\u001b[0m\n",
      "\u001b[1;32m<__array_function__ internals>\u001b[0m in \u001b[0;36minv\u001b[1;34m(*args, **kwargs)\u001b[0m\n",
      "\u001b[1;32mc:\\Users\\chris\\AppData\\Local\\Programs\\Python\\Python37\\lib\\site-packages\\numpy\\linalg\\linalg.py\u001b[0m in \u001b[0;36minv\u001b[1;34m(a)\u001b[0m\n\u001b[0;32m    543\u001b[0m     \u001b[0msignature\u001b[0m \u001b[1;33m=\u001b[0m \u001b[1;34m'D->D'\u001b[0m \u001b[1;32mif\u001b[0m \u001b[0misComplexType\u001b[0m\u001b[1;33m(\u001b[0m\u001b[0mt\u001b[0m\u001b[1;33m)\u001b[0m \u001b[1;32melse\u001b[0m \u001b[1;34m'd->d'\u001b[0m\u001b[1;33m\u001b[0m\u001b[1;33m\u001b[0m\u001b[0m\n\u001b[0;32m    544\u001b[0m     \u001b[0mextobj\u001b[0m \u001b[1;33m=\u001b[0m \u001b[0mget_linalg_error_extobj\u001b[0m\u001b[1;33m(\u001b[0m\u001b[0m_raise_linalgerror_singular\u001b[0m\u001b[1;33m)\u001b[0m\u001b[1;33m\u001b[0m\u001b[1;33m\u001b[0m\u001b[0m\n\u001b[1;32m--> 545\u001b[1;33m     \u001b[0mainv\u001b[0m \u001b[1;33m=\u001b[0m \u001b[0m_umath_linalg\u001b[0m\u001b[1;33m.\u001b[0m\u001b[0minv\u001b[0m\u001b[1;33m(\u001b[0m\u001b[0ma\u001b[0m\u001b[1;33m,\u001b[0m \u001b[0msignature\u001b[0m\u001b[1;33m=\u001b[0m\u001b[0msignature\u001b[0m\u001b[1;33m,\u001b[0m \u001b[0mextobj\u001b[0m\u001b[1;33m=\u001b[0m\u001b[0mextobj\u001b[0m\u001b[1;33m)\u001b[0m\u001b[1;33m\u001b[0m\u001b[1;33m\u001b[0m\u001b[0m\n\u001b[0m\u001b[0;32m    546\u001b[0m     \u001b[1;32mreturn\u001b[0m \u001b[0mwrap\u001b[0m\u001b[1;33m(\u001b[0m\u001b[0mainv\u001b[0m\u001b[1;33m.\u001b[0m\u001b[0mastype\u001b[0m\u001b[1;33m(\u001b[0m\u001b[0mresult_t\u001b[0m\u001b[1;33m,\u001b[0m \u001b[0mcopy\u001b[0m\u001b[1;33m=\u001b[0m\u001b[1;32mFalse\u001b[0m\u001b[1;33m)\u001b[0m\u001b[1;33m)\u001b[0m\u001b[1;33m\u001b[0m\u001b[1;33m\u001b[0m\u001b[0m\n\u001b[0;32m    547\u001b[0m \u001b[1;33m\u001b[0m\u001b[0m\n",
      "\u001b[1;32mc:\\Users\\chris\\AppData\\Local\\Programs\\Python\\Python37\\lib\\site-packages\\numpy\\linalg\\linalg.py\u001b[0m in \u001b[0;36m_raise_linalgerror_singular\u001b[1;34m(err, flag)\u001b[0m\n\u001b[0;32m     86\u001b[0m \u001b[1;33m\u001b[0m\u001b[0m\n\u001b[0;32m     87\u001b[0m \u001b[1;32mdef\u001b[0m \u001b[0m_raise_linalgerror_singular\u001b[0m\u001b[1;33m(\u001b[0m\u001b[0merr\u001b[0m\u001b[1;33m,\u001b[0m \u001b[0mflag\u001b[0m\u001b[1;33m)\u001b[0m\u001b[1;33m:\u001b[0m\u001b[1;33m\u001b[0m\u001b[1;33m\u001b[0m\u001b[0m\n\u001b[1;32m---> 88\u001b[1;33m     \u001b[1;32mraise\u001b[0m \u001b[0mLinAlgError\u001b[0m\u001b[1;33m(\u001b[0m\u001b[1;34m\"Singular matrix\"\u001b[0m\u001b[1;33m)\u001b[0m\u001b[1;33m\u001b[0m\u001b[1;33m\u001b[0m\u001b[0m\n\u001b[0m\u001b[0;32m     89\u001b[0m \u001b[1;33m\u001b[0m\u001b[0m\n\u001b[0;32m     90\u001b[0m \u001b[1;32mdef\u001b[0m \u001b[0m_raise_linalgerror_nonposdef\u001b[0m\u001b[1;33m(\u001b[0m\u001b[0merr\u001b[0m\u001b[1;33m,\u001b[0m \u001b[0mflag\u001b[0m\u001b[1;33m)\u001b[0m\u001b[1;33m:\u001b[0m\u001b[1;33m\u001b[0m\u001b[1;33m\u001b[0m\u001b[0m\n",
      "\u001b[1;31mLinAlgError\u001b[0m: Singular matrix"
     ]
    },
    {
     "data": {
      "image/png": "[encoded data removed]",
      "text/plain": [
       "<Figure size 640x480 with 1 Axes>"
      ]
     },
     "metadata": {},
     "output_type": "display_data"
    }
   ],
   "source": [
    "# Test your algorithm and visualize results!\n",
    "\n",
    "# Load data\n",
    "# data_name = 'landing' # could choose from (car1, car2, landing, race, ballet)\n",
    "# data = np.load('./data/%s.npy' % data_name)\n",
    "# Test your algorithm and visualize results!\n",
    "import os\n",
    "\n",
    "data_names = [\"ballet\"]\n",
    "\n",
    "# Load data\n",
    "data_name = 'landing' # could choose from (car1, car2, landing, race, ballet)\n",
    "for data_name in data_names:\n",
    "    data = np.load('./data/%s.npy' % data_name)\n",
    "\n",
    "    # obtain the initial rect with format (x1, y1, x2, y2)\n",
    "    if data_name == 'car1':\n",
    "        initial = np.array([170, 130, 290, 250])   \n",
    "    elif data_name == 'car2':\n",
    "        initial = np.array([59, 116, 145, 151])    \n",
    "    elif data_name == 'landing':\n",
    "        initial = np.array([440, 80, 560, 140])     \n",
    "    elif data_name == 'race':\n",
    "        initial = np.array([170, 270, 300, 370])\n",
    "    elif data_name == 'ballet':\n",
    "        initial = np.array([700, 210, 775, 300])     \n",
    "    else:\n",
    "        assert False, 'the data name must be one of (car1, car2, landing, race, ballet)'\n",
    "\n",
    "    if data_name == \"car2\":\n",
    "        thresh = 0.75\n",
    "        iter = 10\n",
    "    elif data_name == \"ballet\":\n",
    "        thresh = 0.001\n",
    "        iter = 1000\n",
    "    else:\n",
    "        thresh = 0.025\n",
    "        iter = 100\n",
    "\n",
    "    numFrames = data.shape[2]\n",
    "    w = initial[2] - initial[0]\n",
    "    h = initial[3] - initial[1]\n",
    "\n",
    "    # loop over frames\n",
    "    rects = []\n",
    "    rects.append(initial)\n",
    "\n",
    "\n",
    "    out_folder = f\"results/q1.2/{data_name}/\"\n",
    "    if not os.path.exists(out_folder):\n",
    "        os.mkdir(out_folder)\n",
    "\n",
    "    for i in range(numFrames-1):\n",
    "\n",
    "        It = data[:,:,i]\n",
    "        It1 = data[:,:,i+1]\n",
    "        rect = rects[i]\n",
    "\n",
    "        # run algorithm and collect rects\n",
    "        M = LucasKanadeAffine(It, It1, rect, thresh=thresh, maxIt=iter)\n",
    "        corners = np.array([[rect[0], rect[1], 1], \n",
    "                            [rect[2], rect[3], 1]]).transpose()\n",
    "        newRect = np.matmul(M, corners).transpose().reshape((4, ))\n",
    "        rects.append(newRect)\n",
    "\n",
    "        # Visualize\n",
    "        fig = plt.figure(1)\n",
    "        ax = fig.add_subplot(111)\n",
    "        ax.add_patch(patches.Rectangle((rect[0], rect[1]), rect[2]-rect[0]+1, rect[3]-rect[1]+1, linewidth=2, edgecolor='red', fill=False))\n",
    "        plt.imshow(It1, cmap='gray')\n",
    "        if i%5 == 0:\n",
    "            plt.savefig(out_folder + f\"{i}.png\")\n",
    "        #plt.show()\n",
    "        ax.clear()\n"
   ]
  },
  {
   "cell_type": "code",
   "execution_count": null,
   "metadata": {
    "deletable": false,
    "editable": false,
    "nbgrader": {
     "cell_type": "code",
     "checksum": "2963ee961abb36714b94a7880ace2221",
     "grade": true,
     "grade_id": "q1_2",
     "locked": true,
     "points": 20,
     "schema_version": 3,
     "solution": false,
     "task": false
    }
   },
   "outputs": [],
   "source": [
    "# For some transparency: we evaluate on multiple frames in a given video starting from the first frame.\n",
    "# We then compare against the reference implementation and calculate the sum of all differences.\n",
    "# You should not need to tune anything for the autograding. We pass in the same hyperparameters for you.\n"
   ]
  },
  {
   "cell_type": "code",
   "execution_count": null,
   "metadata": {},
   "outputs": [],
   "source": []
  }
 ],
 "metadata": {
  "kernelspec": {
   "display_name": "Python 3.7.9 64-bit",
   "language": "python",
   "name": "python3"
  },
  "language_info": {
   "codemirror_mode": {
    "name": "ipython",
    "version": 3
   },
   "file_extension": ".py",
   "mimetype": "text/x-python",
   "name": "python",
   "nbconvert_exporter": "python",
   "pygments_lexer": "ipython3",
   "version": "3.7.9"
  },
  "toc": {
   "base_numbering": 1,
   "nav_menu": {},
   "number_sections": false,
   "sideBar": true,
   "skip_h1_title": true,
   "title_cell": "Table of Contents",
   "title_sidebar": "Contents",
   "toc_cell": false,
   "toc_position": {
    "height": "calc(100% - 180px)",
    "left": "10px",
    "top": "150px",
    "width": "349.091px"
   },
   "toc_section_display": true,
   "toc_window_display": true
  },
  "vscode": {
   "interpreter": {
    "hash": "8a14d3cb3a8a01d6659ca21286c75f37ed68cd344cf818a36ad292d43e0de27a"
   }
  }
 },
 "nbformat": 4,
 "nbformat_minor": 4
}
