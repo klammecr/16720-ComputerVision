{
 "cells": [
  {
   "cell_type": "code",
   "execution_count": 3,
   "metadata": {},
   "outputs": [
    {
     "ename": "TypeError",
     "evalue": "compute_dictionary() got an unexpected keyword argument 'alpha'",
     "output_type": "error",
     "traceback": [
      "\u001b[1;31m---------------------------------------------------------------------------\u001b[0m",
      "\u001b[1;31mTypeError\u001b[0m                                 Traceback (most recent call last)",
      "\u001b[1;32mc:\\Users\\chris\\dev\\16720-ComputerVision\\hw2_v2\\custom.ipynb Cell 1\u001b[0m in \u001b[0;36m<cell line: 68>\u001b[1;34m()\u001b[0m\n\u001b[0;32m     <a href='vscode-notebook-cell:/c%3A/Users/chris/dev/16720-ComputerVision/hw2_v2/custom.ipynb#W0sZmlsZQ%3D%3D?line=59'>60</a>\u001b[0m             training_features[idx[\u001b[39m0\u001b[39m]] \u001b[39m=\u001b[39m r[\u001b[39m1\u001b[39m]\n\u001b[0;32m     <a href='vscode-notebook-cell:/c%3A/Users/chris/dev/16720-ComputerVision/hw2_v2/custom.ipynb#W0sZmlsZQ%3D%3D?line=61'>62</a>\u001b[0m     np\u001b[39m.\u001b[39msavez(\u001b[39m'\u001b[39m\u001b[39mtrained_system_edited.npz\u001b[39m\u001b[39m'\u001b[39m, features\u001b[39m=\u001b[39mtraining_features,\n\u001b[0;32m     <a href='vscode-notebook-cell:/c%3A/Users/chris/dev/16720-ComputerVision/hw2_v2/custom.ipynb#W0sZmlsZQ%3D%3D?line=62'>63</a>\u001b[0m                                     labels\u001b[39m=\u001b[39mlabels,\n\u001b[0;32m     <a href='vscode-notebook-cell:/c%3A/Users/chris/dev/16720-ComputerVision/hw2_v2/custom.ipynb#W0sZmlsZQ%3D%3D?line=63'>64</a>\u001b[0m                                     dictionary\u001b[39m=\u001b[39mdictionary,\n\u001b[0;32m     <a href='vscode-notebook-cell:/c%3A/Users/chris/dev/16720-ComputerVision/hw2_v2/custom.ipynb#W0sZmlsZQ%3D%3D?line=64'>65</a>\u001b[0m                                     SPM_layer_num\u001b[39m=\u001b[39mspm_layers)\n\u001b[1;32m---> <a href='vscode-notebook-cell:/c%3A/Users/chris/dev/16720-ComputerVision/hw2_v2/custom.ipynb#W0sZmlsZQ%3D%3D?line=67'>68</a>\u001b[0m build_recognition_system()\n",
      "\u001b[1;32mc:\\Users\\chris\\dev\\16720-ComputerVision\\hw2_v2\\custom.ipynb Cell 1\u001b[0m in \u001b[0;36mbuild_recognition_system\u001b[1;34m(num_workers)\u001b[0m\n\u001b[0;32m     <a href='vscode-notebook-cell:/c%3A/Users/chris/dev/16720-ComputerVision/hw2_v2/custom.ipynb#W0sZmlsZQ%3D%3D?line=24'>25</a>\u001b[0m \u001b[39m# Load the dictionary and training data\u001b[39;00m\n\u001b[0;32m     <a href='vscode-notebook-cell:/c%3A/Users/chris/dev/16720-ComputerVision/hw2_v2/custom.ipynb#W0sZmlsZQ%3D%3D?line=25'>26</a>\u001b[0m train_data \u001b[39m=\u001b[39m np\u001b[39m.\u001b[39mload(\u001b[39m\"\u001b[39m\u001b[39m./data/train_data.npz\u001b[39m\u001b[39m\"\u001b[39m)\n\u001b[1;32m---> <a href='vscode-notebook-cell:/c%3A/Users/chris/dev/16720-ComputerVision/hw2_v2/custom.ipynb#W0sZmlsZQ%3D%3D?line=26'>27</a>\u001b[0m compute_dictionary(alpha\u001b[39m=\u001b[39;49malpha, num_clusters\u001b[39m=\u001b[39;49mnum_clusters, out_name\u001b[39m=\u001b[39;49m\u001b[39m\"\u001b[39;49m\u001b[39mdict_tuning\u001b[39;49m\u001b[39m\"\u001b[39;49m)\n\u001b[0;32m     <a href='vscode-notebook-cell:/c%3A/Users/chris/dev/16720-ComputerVision/hw2_v2/custom.ipynb#W0sZmlsZQ%3D%3D?line=27'>28</a>\u001b[0m dictionary \u001b[39m=\u001b[39m np\u001b[39m.\u001b[39mload(\u001b[39m\"\u001b[39m\u001b[39mdict_tuning.npy\u001b[39m\u001b[39m\"\u001b[39m)\n\u001b[0;32m     <a href='vscode-notebook-cell:/c%3A/Users/chris/dev/16720-ComputerVision/hw2_v2/custom.ipynb#W0sZmlsZQ%3D%3D?line=29'>30</a>\u001b[0m \u001b[39m# Parse out the training files\u001b[39;00m\n",
      "\u001b[1;31mTypeError\u001b[0m: compute_dictionary() got an unexpected keyword argument 'alpha'"
     ]
    }
   ],
   "source": [
    "import numpy as np\n",
    "import multiprocess\n",
    "from p2_1 import get_image_feature\n",
    "from p1 import compute_dictionary\n",
    "\n",
    "def build_recognition_system(num_workers = 2):\n",
    "    '''\n",
    "    Creates a trained recognition system by generating training features from all training images.\n",
    "\n",
    "    [input]\n",
    "    * num_workers: number of workers to process in parallel\n",
    "\n",
    "    [saved]\n",
    "    * features: numpy.ndarray of shape (N,M)\n",
    "    * labels: numpy.ndarray of shape (N)\n",
    "    * dictionary: numpy.ndarray of shape (K,3F)\n",
    "    * SPM_layer_num: number of spatial pyramid layers\n",
    "    '''\n",
    "\n",
    "    # Define the number of layers\n",
    "    spm_layers = 7\n",
    "    num_clusters = 250 # K in k means\n",
    "    alpha = 200\n",
    "\n",
    "    # Load the dictionary and training data\n",
    "    train_data = np.load(\"./data/train_data.npz\")\n",
    "    compute_dictionary(alpha=alpha, num_clusters=num_clusters, out_name=\"dict_tuning\")\n",
    "    dictionary = np.load(\"dict_tuning.npy\")\n",
    "\n",
    "    # Parse out the training files\n",
    "    train_files = train_data.get(\"files\")\n",
    "    if train_files is None:\n",
    "        raise ValueError(\"No valid training files available :(\")\n",
    "    train_files = [\"./data/\" + str(file) for file in train_files]\n",
    "\n",
    "    # Parse out the training labels\n",
    "    labels = train_data.get(\"labels\")\n",
    "    if labels is None:\n",
    "        raise ValueError(\"No valid labels available :(\")\n",
    "\n",
    "    # Gather arguments for multiprocessing\n",
    "    args = []\n",
    "    for idx, train_sample in enumerate(train_files):\n",
    "        args.append((train_sample, dictionary, spm_layers, dictionary.shape[0]))\n",
    "\n",
    "    # NxM array of the training features\n",
    "    training_features = np.zeros((len(args), int(dictionary.shape[0] / 3 * (4**(spm_layers)-1))))\n",
    "\n",
    "    # Multiprocess getting the image features\n",
    "    result_dict = {}\n",
    "    with multiprocess.Pool(num_workers) as p:\n",
    "        # Get the result\n",
    "        result = p.starmap(get_image_feature, args)\n",
    "\n",
    "        for r in result:\n",
    "            # Associate where to put it in the output list\n",
    "            idx = np.argwhere(np.array(train_files) == r[0])\n",
    "\n",
    "            # Put it in the output list\n",
    "            training_features[idx[0]] = r[1]\n",
    "\n",
    "    np.savez('trained_system_edited.npz', features=training_features,\n",
    "                                    labels=labels,\n",
    "                                    dictionary=dictionary,\n",
    "                                    SPM_layer_num=spm_layers)\n",
    "\n",
    "\n",
    "build_recognition_system()"
   ]
  }
 ],
 "metadata": {
  "kernelspec": {
   "display_name": "Python 3.9.13 ('vision_conda')",
   "language": "python",
   "name": "python3"
  },
  "language_info": {
   "codemirror_mode": {
    "name": "ipython",
    "version": 3
   },
   "file_extension": ".py",
   "mimetype": "text/x-python",
   "name": "python",
   "nbconvert_exporter": "python",
   "pygments_lexer": "ipython3",
   "version": "3.9.13"
  },
  "orig_nbformat": 4,
  "vscode": {
   "interpreter": {
    "hash": "ab1be24f2b69fea20ab96b72f6a75a8226e3980324f891cd62f88ac8e8b7a219"
   }
  }
 },
 "nbformat": 4,
 "nbformat_minor": 2
}
