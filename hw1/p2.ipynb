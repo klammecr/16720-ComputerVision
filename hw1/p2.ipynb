{
 "cells": [
  {
   "cell_type": "code",
   "execution_count": null,
   "metadata": {},
   "outputs": [],
   "source": []
  },
  {
   "cell_type": "code",
   "execution_count": null,
   "metadata": {
    "deletable": false,
    "editable": false,
    "nbgrader": {
     "cell_type": "code",
     "checksum": "fcc77547a4bd9977db6cb4db00f1ac89",
     "grade": false,
     "grade_id": "cell-f9dcefb4613e6ab4",
     "locked": true,
     "schema_version": 3,
     "solution": false,
     "task": false
    }
   },
   "outputs": [],
   "source": [
    "# DO NOT MODIFY! helper functions and constants\n",
    "import nbimporter\n",
    "from p1 import cv2, np, plt, math, os\n",
    "from p1 import get_parameters, Gauss2D, filter_image_vec\n",
    "\n",
    "image_list, constants = get_parameters()\n",
    "\n",
    "#----------------------------------------------------------------------\n",
    "def visualize(function, image_name, sigma):\n",
    "    image_rgb = cv2.cvtColor(cv2.imread(image_name), cv2.COLOR_BGR2RGB)\n",
    "\n",
    "    image = cv2.cvtColor(image_rgb, cv2.COLOR_RGB2GRAY)\n",
    "    image_m, image_o, image_x, image_y = function(image, sigma)\n",
    "    \n",
    "    print(\"-\" * 50 + \"\\n\" + \"Original Image:\")\n",
    "    plt.imshow(image_rgb); plt.show() # Displaying the sample image\n",
    "    \n",
    "    print(\"-\" * 50 + \"\\n\" + \"Edge Magnitude:\")\n",
    "    plt.imshow(image_m, cmap=\"gray\"); plt.show()\n",
    "    \n",
    "    print(\"-\" * 50 + \"\\n\" + \"Edge Orientation:\")\n",
    "    plt.imshow(image_o, cmap=\"gray\"); plt.show()\n",
    "    \n",
    "    print(\"-\" * 50 + \"\\n\" + \"Gradient x:\")\n",
    "    plt.imshow(image_x, cmap=\"gray\"); plt.show()\n",
    "    \n",
    "    print(\"-\" * 50 + \"\\n\" + \"Gradient y:\")\n",
    "    plt.imshow(image_y, cmap=\"gray\"); plt.show()\n",
    "    \n",
    "    return"
   ]
  },
  {
   "cell_type": "markdown",
   "metadata": {
    "deletable": false,
    "editable": false,
    "nbgrader": {
     "cell_type": "markdown",
     "checksum": "075eb451c659f9e00d4f6c3390e69170",
     "grade": false,
     "grade_id": "q2_1",
     "locked": true,
     "schema_version": 3,
     "solution": false,
     "task": false
    }
   },
   "source": [
    "### Q2.1 Edge Detection (10 points)\n",
    "\n",
    "Write a function that computes the edge intensity magnitude, edge orientation and image gradients of the image.  \n",
    "\n",
    "```\n",
    "  def edge_detection(image, sigma):\n",
    "    \n",
    "        return image_m, image_o, image_x, image_y\n",
    "\n",
    "```\n",
    "\n",
    "- **Input**: a grayscale image *$image$* and a scalar *$sigma$* representing the std dev of Gaussian kernel. \n",
    "- **Output**: *$image\\_m$* is the edge magnitude image, *$image\\_o$* is the edge orientation image, *$image\\_x$* and *$image\\_y$* are image gradients in x and y directions respectively. \n",
    "\n",
    "**Instructions**\n",
    "- Your code cannot call pre-existing edge functions from python libraries.\n",
    "- Use *filter_image_vec* function in your implementation. \n",
    "- Smooth the *$image$* using a Gaussian kernel defined by *$sigma$*. This will reduce noise and spurious fine edges in the image.\n",
    "- Use the Sobel filters to find the image gradients *$image\\_x$* and *$image\\_y$* by convolving it with the smoothed image.\n",
    "- Refer Lecture Slides on Image Gradients and Gradient Filtering. Note, *$image\\_x$* measures horizontal change in intensity so will respond to vertical lines in the image and vice-versa. https://theailearner.com/2019/05/11/understanding-image-gradients/\n",
    "- *$image\\_m$* and *$image\\_o$* can be calculated from *$image\\_x$* and *$image\\_y$*.\n",
    "- *$image\\_m$* is in [-$\\rho_{\\text{max}}$, $\\rho_{\\text{max}}$].\n",
    "- *$image\\_o$* is in degrees, $[0, 360^\\circ]$.\n",
    "\n",
    "**Grading**\n",
    "- Your code will be autograded with 10 images. \n",
    "- The outputs of the function will be compared with the outputs of a reference implementation with an error threshold of 1e-5."
   ]
  },
  {
   "cell_type": "code",
   "execution_count": null,
   "metadata": {
    "deletable": false,
    "nbgrader": {
     "cell_type": "code",
     "checksum": "37d6cc0af304187eeee7922a7be00fc7",
     "grade": false,
     "grade_id": "q2_1_code",
     "locked": false,
     "schema_version": 3,
     "solution": true,
     "task": false
    }
   },
   "outputs": [],
   "source": [
    "def edge_detection(image, sigma):\n",
    "    \"\"\"Detect edges in the image\n",
    "\n",
    "    Args:\n",
    "        image: np.array, HxW, the input grayscale image. \n",
    "        sigma: float, std dev of the Gauss2D filter used as in creation of h_filter. \n",
    "\n",
    "    Returns:\n",
    "        image_m: np.array, HxW, contains the edge magnitudes, each value in [-rho_max ,rho_max]\n",
    "        image_o: np.array, HxW, edge orientations in degrees [0, 360]\n",
    "        image_x: np.array, HxW, image gradient in x\n",
    "        image_y: np.array, HxW, image gradient in y\n",
    "    \"\"\"\n",
    "    h_size = 2*math.ceil(3*sigma) + 1\n",
    "    gaussian_kernel = Gauss2D(kernel=(h_size, h_size), sigma=sigma)\n",
    "    \n",
    "    #--------------------------------------\n",
    "    # smooth image using gaussian kernel, we overwrite variable image with the smoothed image!\n",
    "    # image = ?\n",
    "    # YOUR CODE HERE\n",
    "    raise NotImplementedError()\n",
    "    \n",
    "    #--------------------------------------\n",
    "    # define sobel_filter_x and sobel_filter_y, you can ignore the 1/8 normalization weight!\n",
    "    # sobel_filter_x = ?\n",
    "    # sobel_filter_y = ?\n",
    "    # YOUR CODE HERE\n",
    "    raise NotImplementedError()\n",
    "    \n",
    "    image_x = filter_image_vec(image, sobel_filter_x)\n",
    "    image_y = filter_image_vec(image, sobel_filter_y)\n",
    "    \n",
    "    # image_m = ?\n",
    "    # image_o = ?\n",
    "    # YOUR CODE HERE\n",
    "    raise NotImplementedError()\n",
    "    \n",
    "    return image_m, image_o, image_x, image_y"
   ]
  },
  {
   "cell_type": "markdown",
   "metadata": {
    "deletable": false,
    "editable": false,
    "nbgrader": {
     "cell_type": "markdown",
     "checksum": "a53f16fbd42244a379d7ea63285bbc08",
     "grade": false,
     "grade_id": "cell-16768e07721c3fd7",
     "locked": true,
     "schema_version": 3,
     "solution": false,
     "task": false
    }
   },
   "source": [
    "### Test Q2.1"
   ]
  },
  {
   "cell_type": "code",
   "execution_count": null,
   "metadata": {
    "deletable": false,
    "editable": false,
    "nbgrader": {
     "cell_type": "code",
     "checksum": "2d88ca80c3cdf4dca1a02c52265fbf27",
     "grade": true,
     "grade_id": "q2_1_test",
     "locked": true,
     "points": 0,
     "schema_version": 3,
     "solution": false,
     "task": false
    }
   },
   "outputs": [],
   "source": [
    "image_idx = np.random.randint(0, len(image_list))\n",
    "visualize(edge_detection, image_list[image_idx], constants.sigma)"
   ]
  },
  {
   "cell_type": "markdown",
   "metadata": {
    "deletable": false,
    "editable": false,
    "nbgrader": {
     "cell_type": "markdown",
     "checksum": "cd22ed04e458ac2fef8d04e7c051544e",
     "grade": false,
     "grade_id": "q2_2",
     "locked": true,
     "schema_version": 3,
     "solution": false,
     "task": false
    }
   },
   "source": [
    "### Q2.2 Edge Detection with Non-Maximal Suppression (15 points)\n",
    "Write a function along with two helper functions which performs Non-Maximal Suppression (NMS) to modify *$image\\_m$* using *$image\\_m$* and *$image\\_o$*. \n",
    "\n",
    "```\n",
    "    def edge_detection_nms(image, sigma):\n",
    "        return image_m, image_o, image_x, image_y\n",
    "        \n",
    "    def edge_nms(image_m, image_o):\n",
    "        return image_m_prime\n",
    "    \n",
    "    def keep_pixel(image_m, i, j, gradient)::\n",
    "        return output\n",
    "```\n",
    "\n",
    "**Instructions**\n",
    "- Many times the high gradient magnitude region along an edge will be quite thick.\n",
    "- This will lead to infering thick edges as multiple thin edges.\n",
    "- We wish to avoid this as for finding lines in the image, it is best to have edges that are a single pixel wide.\n",
    "- We will be using nested loops for simplicity, but feel free to use vectorization for efficiency.\n",
    "\n",
    "**NMS Algorithm**: \n",
    "* For each pixel, look at the two neighboring pixels along the gradient direction\n",
    "* If either of those pixels has a larger gradient magnitude then set the edge magnitude in *$image\\_m$* at the center pixel to zero. \n",
    "* Map the gradient angle in *$image\\_o$* to the closest of 4 cases, where the line is sloped at almost [0$^\\circ$, 45$^\\circ$, 90$^\\circ$, 135$^\\circ$] \n",
    "* Note, the other 4 cases [180$^\\circ$, 225$^\\circ$, 270$^\\circ$, 315$^\\circ$, 360$^\\circ$] are already captured because of the symmetry of the suppression condition. \n",
    "* Eg, 20$^\\circ$ would map to 0$^\\circ$ and 30$^\\circ$ would map to 45$^\\circ$.\n",
    "\n",
    "\n",
    "More details on non-maximum suppression (again we use 4 cases instead of 8 cases!). \n",
    "\n",
    "<img align=\"center\" src=\"data/handout/q2.png\" width=\"700\">\n",
    "\n",
    "**Grading**\n",
    "Same as Q2.1"
   ]
  },
  {
   "cell_type": "code",
   "execution_count": null,
   "metadata": {
    "deletable": false,
    "nbgrader": {
     "cell_type": "code",
     "checksum": "4f8f4efd64cdba407ace56055747354f",
     "grade": false,
     "grade_id": "q2_2_code",
     "locked": false,
     "schema_version": 3,
     "solution": true,
     "task": false
    }
   },
   "outputs": [],
   "source": [
    "def edge_detection_nms(image, sigma):\n",
    "    \"\"\"Detect edges in the image with nms preprocessing\n",
    "\n",
    "    Args:\n",
    "        image: np.array, HxW, the input grayscale image. \n",
    "        sigma: float, std dev of the Gauss2D filter used as in creation of h_filter. \n",
    "\n",
    "    Returns:\n",
    "        image_m: np.array, HxW, contains the edge magnitudes\n",
    "        image_o: np.array, HxW, edge orientations in degrees [0, 360]\n",
    "        image_x: np.array, HxW, image gradient in x\n",
    "        image_y: np.array, HxW, image gradient in y\n",
    "    \"\"\"\n",
    "    h_size = 2*math.ceil(3*sigma) + 1\n",
    "    gaussian_kernel = Gauss2D(kernel=(h_size, h_size), sigma=sigma)\n",
    "    \n",
    "    #--------------------------------------\n",
    "    # smooth image using gaussian kernel, we overwrite variable image with the smoothed image!\n",
    "    # image = ?\n",
    "    # YOUR CODE HERE\n",
    "    raise NotImplementedError()\n",
    "    \n",
    "    #--------------------------------------\n",
    "    # define sobel_filter_x and sobel_filter_y, you can ignore the 1/8 normalization weight!\n",
    "    # sobel_filter_x = ?\n",
    "    # sobel_filter_y = ?\n",
    "    # YOUR CODE HERE\n",
    "    raise NotImplementedError()\n",
    "    \n",
    "    image_x = filter_image_vec(image, sobel_filter_x)\n",
    "    image_y = filter_image_vec(image, sobel_filter_y)\n",
    "    \n",
    "    # image_m = ?\n",
    "    # image_o = ?\n",
    "    # YOUR CODE HERE\n",
    "    raise NotImplementedError()\n",
    "    \n",
    "    # apply nms\n",
    "    image_m = edge_nms(image_m, image_o)\n",
    "    \n",
    "    return image_m, image_o, image_x, image_y\n",
    "\n",
    "#----------------------------------------------------------------------\n",
    "def edge_nms(image_m, image_o):\n",
    "    \"\"\"Performs edge nms on image_m\n",
    "    Args:\n",
    "        image_m: np.array, HxW, edge magnitude image\n",
    "        image_o: np.array, HxW, edge orientations image\n",
    "\n",
    "    Returns:\n",
    "        image_m_prime: np.array, suppressed image_m after NMS\n",
    "    \"\"\"\n",
    "    mask = np.ones_like(image_m) ## per pixel boolean mask, 1 = keep, 0 = suppress\n",
    "    \n",
    "    # loop per pixel\n",
    "    for i in range(1, image_m.shape[0]-1):\n",
    "        for j in range(1, image_m.shape[1]-1):\n",
    "            \n",
    "            # round of the pixel gradient to one of the 4 cases in degrees. Reminder, image_o is [0, 360]\n",
    "            # pixel_gradient = ?\n",
    "            # YOUR CODE HERE\n",
    "            raise NotImplementedError()\n",
    "            \n",
    "            mask[i, j] = keep_pixel(image_m, i, j, pixel_gradient)\n",
    "    \n",
    "    image_m_prime = mask*image_m\n",
    "    \n",
    "    return image_m_prime\n",
    "\n",
    "#----------------------------------------------------------------------\n",
    "def keep_pixel(image_m, i, j, gradient):\n",
    "    \"\"\"Performs edge nms on image_m\n",
    "    Args:\n",
    "        image_m: np.array, HxW, edge magnitude image \n",
    "        i: integer, row index of pixel\n",
    "        j: integer, col index of pixel\n",
    "        gradient: integer, rounded gradient in degrees, one of the values in [0, 45, 90, 135].\n",
    "\n",
    "    Returns:\n",
    "        output: boolean integer (1 or 0). 1 to keep pixel, 0 to suppress pixel\n",
    "    \"\"\"\n",
    "    \n",
    "    # Compare the magnitude at image_m[i, j] with its neighbours\n",
    "    # angle decides which neighbours to check\n",
    "    \n",
    "    # YOUR CODE HERE\n",
    "    raise NotImplementedError()\n",
    "    \n",
    "    return output\n"
   ]
  },
  {
   "cell_type": "markdown",
   "metadata": {
    "deletable": false,
    "editable": false,
    "nbgrader": {
     "cell_type": "markdown",
     "checksum": "2f2ca6124585f2c9c7496d2710e0524f",
     "grade": false,
     "grade_id": "cell-b42ca8999d801539",
     "locked": true,
     "schema_version": 3,
     "solution": false,
     "task": false
    }
   },
   "source": [
    "### Test Q2.2"
   ]
  },
  {
   "cell_type": "code",
   "execution_count": null,
   "metadata": {
    "deletable": false,
    "editable": false,
    "nbgrader": {
     "cell_type": "code",
     "checksum": "4a0a547c80b57a1dbe5531fafad4c91d",
     "grade": true,
     "grade_id": "q2_2_test",
     "locked": true,
     "points": 0,
     "schema_version": 3,
     "solution": false,
     "task": false
    }
   },
   "outputs": [],
   "source": [
    "image_idx = np.random.randint(0, len(image_list))\n",
    "visualize(edge_detection_nms, image_list[image_idx], constants.sigma)"
   ]
  },
  {
   "cell_type": "markdown",
   "metadata": {
    "deletable": false,
    "editable": false,
    "nbgrader": {
     "cell_type": "markdown",
     "checksum": "49d54f472ce05a4bff5a27477344c611",
     "grade": false,
     "grade_id": "cell-2a89d91c75b4a9b3",
     "locked": true,
     "schema_version": 3,
     "solution": false,
     "task": false
    }
   },
   "source": [
    "### Autograde Q2.1\n",
    "1 points per test case, 10 test cases."
   ]
  },
  {
   "cell_type": "code",
   "execution_count": null,
   "metadata": {
    "deletable": false,
    "editable": false,
    "nbgrader": {
     "cell_type": "code",
     "checksum": "a024eefeb63c9157a79e10801960cdee",
     "grade": true,
     "grade_id": "cell-dbf8f895ceb176e6",
     "locked": true,
     "points": 0,
     "schema_version": 3,
     "solution": false,
     "task": false
    }
   },
   "outputs": [],
   "source": []
  },
  {
   "cell_type": "code",
   "execution_count": null,
   "metadata": {
    "deletable": false,
    "editable": false,
    "nbgrader": {
     "cell_type": "code",
     "checksum": "faa131511a1382c8d9921938a9b9b808",
     "grade": true,
     "grade_id": "q2_1_t1",
     "locked": true,
     "points": 1,
     "schema_version": 3,
     "solution": false,
     "task": false
    }
   },
   "outputs": [],
   "source": []
  },
  {
   "cell_type": "code",
   "execution_count": null,
   "metadata": {
    "deletable": false,
    "editable": false,
    "nbgrader": {
     "cell_type": "code",
     "checksum": "9691c426a9d08996fa915687dcd036c1",
     "grade": true,
     "grade_id": "q2_1_t2",
     "locked": true,
     "points": 1,
     "schema_version": 3,
     "solution": false,
     "task": false
    }
   },
   "outputs": [],
   "source": []
  },
  {
   "cell_type": "code",
   "execution_count": null,
   "metadata": {
    "deletable": false,
    "editable": false,
    "nbgrader": {
     "cell_type": "code",
     "checksum": "a725fca5924cb8c2dc577825cc74692a",
     "grade": true,
     "grade_id": "q2_1_t3",
     "locked": true,
     "points": 1,
     "schema_version": 3,
     "solution": false,
     "task": false
    }
   },
   "outputs": [],
   "source": []
  },
  {
   "cell_type": "code",
   "execution_count": null,
   "metadata": {
    "deletable": false,
    "editable": false,
    "nbgrader": {
     "cell_type": "code",
     "checksum": "bbbfdb3b83c046c82c9ed96e96d12db3",
     "grade": true,
     "grade_id": "q2_1_t4",
     "locked": true,
     "points": 1,
     "schema_version": 3,
     "solution": false,
     "task": false
    }
   },
   "outputs": [],
   "source": []
  },
  {
   "cell_type": "code",
   "execution_count": null,
   "metadata": {
    "deletable": false,
    "editable": false,
    "nbgrader": {
     "cell_type": "code",
     "checksum": "8896a64e002271a913e081114bf9621f",
     "grade": true,
     "grade_id": "q2_1_t5",
     "locked": true,
     "points": 1,
     "schema_version": 3,
     "solution": false,
     "task": false
    }
   },
   "outputs": [],
   "source": []
  },
  {
   "cell_type": "code",
   "execution_count": null,
   "metadata": {
    "deletable": false,
    "editable": false,
    "nbgrader": {
     "cell_type": "code",
     "checksum": "634ea2eb6ad9c465f9f8feeb4e238669",
     "grade": true,
     "grade_id": "q2_1_t6",
     "locked": true,
     "points": 1,
     "schema_version": 3,
     "solution": false,
     "task": false
    }
   },
   "outputs": [],
   "source": []
  },
  {
   "cell_type": "code",
   "execution_count": null,
   "metadata": {
    "deletable": false,
    "editable": false,
    "nbgrader": {
     "cell_type": "code",
     "checksum": "bffaa3c4ada0ac038340ebfa0590c4e5",
     "grade": true,
     "grade_id": "q2_1_t7",
     "locked": true,
     "points": 1,
     "schema_version": 3,
     "solution": false,
     "task": false
    }
   },
   "outputs": [],
   "source": []
  },
  {
   "cell_type": "code",
   "execution_count": null,
   "metadata": {
    "deletable": false,
    "editable": false,
    "nbgrader": {
     "cell_type": "code",
     "checksum": "902007408ef6e619528cb80e8018f035",
     "grade": true,
     "grade_id": "q2_1_t8",
     "locked": true,
     "points": 1,
     "schema_version": 3,
     "solution": false,
     "task": false
    }
   },
   "outputs": [],
   "source": []
  },
  {
   "cell_type": "code",
   "execution_count": null,
   "metadata": {
    "deletable": false,
    "editable": false,
    "nbgrader": {
     "cell_type": "code",
     "checksum": "dc4eacc9866cde78a09a54e4f4af13e3",
     "grade": true,
     "grade_id": "q2_1_t9",
     "locked": true,
     "points": 1,
     "schema_version": 3,
     "solution": false,
     "task": false
    }
   },
   "outputs": [],
   "source": []
  },
  {
   "cell_type": "code",
   "execution_count": null,
   "metadata": {
    "deletable": false,
    "editable": false,
    "nbgrader": {
     "cell_type": "code",
     "checksum": "5d884a212040c92561ca9d445c38c469",
     "grade": true,
     "grade_id": "q2_1_t10",
     "locked": true,
     "points": 1,
     "schema_version": 3,
     "solution": false,
     "task": false
    }
   },
   "outputs": [],
   "source": []
  },
  {
   "cell_type": "markdown",
   "metadata": {
    "deletable": false,
    "editable": false,
    "nbgrader": {
     "cell_type": "markdown",
     "checksum": "56c3efef655ea35ed7b614e8fd6037df",
     "grade": false,
     "grade_id": "cell-e49e3e21013ac579",
     "locked": true,
     "schema_version": 3,
     "solution": false,
     "task": false
    }
   },
   "source": [
    "### Autograde Q2.2\n",
    "1.5 points per test case, 10 test cases."
   ]
  },
  {
   "cell_type": "code",
   "execution_count": null,
   "metadata": {
    "deletable": false,
    "editable": false,
    "nbgrader": {
     "cell_type": "code",
     "checksum": "7311161edc5603d7e70272cd8fb210fb",
     "grade": true,
     "grade_id": "q2_2_t1",
     "locked": true,
     "points": 1.5,
     "schema_version": 3,
     "solution": false,
     "task": false
    }
   },
   "outputs": [],
   "source": []
  },
  {
   "cell_type": "code",
   "execution_count": null,
   "metadata": {
    "deletable": false,
    "editable": false,
    "nbgrader": {
     "cell_type": "code",
     "checksum": "ca01e00621388c33154c43a36ce80df8",
     "grade": true,
     "grade_id": "q2_2_t2",
     "locked": true,
     "points": 1.5,
     "schema_version": 3,
     "solution": false,
     "task": false
    }
   },
   "outputs": [],
   "source": []
  },
  {
   "cell_type": "code",
   "execution_count": null,
   "metadata": {
    "deletable": false,
    "editable": false,
    "nbgrader": {
     "cell_type": "code",
     "checksum": "f0740e1b376ae8b0031d97558e9801ec",
     "grade": true,
     "grade_id": "q2_2_t3",
     "locked": true,
     "points": 1.5,
     "schema_version": 3,
     "solution": false,
     "task": false
    }
   },
   "outputs": [],
   "source": []
  },
  {
   "cell_type": "code",
   "execution_count": null,
   "metadata": {
    "deletable": false,
    "editable": false,
    "nbgrader": {
     "cell_type": "code",
     "checksum": "fbb5cdb4183ad05e439401da0158ff70",
     "grade": true,
     "grade_id": "q2_2_t4",
     "locked": true,
     "points": 1.5,
     "schema_version": 3,
     "solution": false,
     "task": false
    }
   },
   "outputs": [],
   "source": []
  },
  {
   "cell_type": "code",
   "execution_count": null,
   "metadata": {
    "deletable": false,
    "editable": false,
    "nbgrader": {
     "cell_type": "code",
     "checksum": "bb2fefa18a30096247f128924ee48d19",
     "grade": true,
     "grade_id": "q2_2_t5",
     "locked": true,
     "points": 1.5,
     "schema_version": 3,
     "solution": false,
     "task": false
    }
   },
   "outputs": [],
   "source": []
  },
  {
   "cell_type": "code",
   "execution_count": null,
   "metadata": {
    "deletable": false,
    "editable": false,
    "nbgrader": {
     "cell_type": "code",
     "checksum": "b822341b90f38c14b36c1c3a11020054",
     "grade": true,
     "grade_id": "q2_2_t6",
     "locked": true,
     "points": 1.5,
     "schema_version": 3,
     "solution": false,
     "task": false
    }
   },
   "outputs": [],
   "source": []
  },
  {
   "cell_type": "code",
   "execution_count": null,
   "metadata": {
    "deletable": false,
    "editable": false,
    "nbgrader": {
     "cell_type": "code",
     "checksum": "e36c54376826742da540b259886fecaf",
     "grade": true,
     "grade_id": "q2_2_t7",
     "locked": true,
     "points": 1.5,
     "schema_version": 3,
     "solution": false,
     "task": false
    }
   },
   "outputs": [],
   "source": []
  },
  {
   "cell_type": "code",
   "execution_count": null,
   "metadata": {
    "deletable": false,
    "editable": false,
    "nbgrader": {
     "cell_type": "code",
     "checksum": "1c813de3f920f18a97f56c26fa9e8b19",
     "grade": true,
     "grade_id": "q2_2_t8",
     "locked": true,
     "points": 1.5,
     "schema_version": 3,
     "solution": false,
     "task": false
    }
   },
   "outputs": [],
   "source": []
  },
  {
   "cell_type": "code",
   "execution_count": null,
   "metadata": {
    "deletable": false,
    "editable": false,
    "nbgrader": {
     "cell_type": "code",
     "checksum": "9bd3127a0a77d7d4f790798847be8f99",
     "grade": true,
     "grade_id": "q2_2_t9",
     "locked": true,
     "points": 1.5,
     "schema_version": 3,
     "solution": false,
     "task": false
    }
   },
   "outputs": [],
   "source": []
  },
  {
   "cell_type": "code",
   "execution_count": null,
   "metadata": {
    "deletable": false,
    "editable": false,
    "nbgrader": {
     "cell_type": "code",
     "checksum": "8ffddbd055a3424d8d3184f5b3c7a0ff",
     "grade": true,
     "grade_id": "q2_2_t10",
     "locked": true,
     "points": 1.5,
     "schema_version": 3,
     "solution": false,
     "task": false
    }
   },
   "outputs": [],
   "source": []
  }
 ],
 "metadata": {
  "kernelspec": {
   "display_name": "Python 3 (ipykernel)",
   "language": "python",
   "name": "python3"
  },
  "language_info": {
   "codemirror_mode": {
    "name": "ipython",
    "version": 3
   },
   "file_extension": ".py",
   "mimetype": "text/x-python",
   "name": "python",
   "nbconvert_exporter": "python",
   "pygments_lexer": "ipython3",
   "version": "3.8.13"
  },
  "toc": {
   "base_numbering": 1,
   "nav_menu": {},
   "number_sections": true,
   "sideBar": true,
   "skip_h1_title": false,
   "title_cell": "Table of Contents",
   "title_sidebar": "Contents",
   "toc_cell": false,
   "toc_position": {
    "height": "calc(100% - 180px)",
    "left": "10px",
    "top": "150px",
    "width": "384px"
   },
   "toc_section_display": true,
   "toc_window_display": true
  }
 },
 "nbformat": 4,
 "nbformat_minor": 4
}
