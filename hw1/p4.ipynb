{
 "cells": [
  {
   "cell_type": "code",
   "execution_count": null,
   "metadata": {},
   "outputs": [],
   "source": []
  },
  {
   "cell_type": "code",
   "execution_count": null,
   "metadata": {
    "deletable": false,
    "editable": false,
    "nbgrader": {
     "cell_type": "code",
     "checksum": "9010f7b58637f3bdd8510f9633206eaa",
     "grade": false,
     "grade_id": "cell-f9dcefb4613e6ab4",
     "locked": true,
     "schema_version": 3,
     "solution": false,
     "task": false
    }
   },
   "outputs": [],
   "source": [
    "## DO NOT MODIFY! \n",
    "## Import from previous notebook\n",
    "import nbimporter\n",
    "from p1 import cv2, np, plt, math, SimpleNamespace\n",
    "from p1 import get_parameters, Gauss2D, filter_image_vec\n",
    "from p2 import edge_detection_nms\n",
    "from p3 import hough_transform, peak_hough_lines\n",
    "\n",
    "image_list, constants = get_parameters()\n",
    "\n",
    "#----------------------------------------------------------------------\n",
    "# Different from visualize in p3, calls hough_accumulator_nms()\n",
    "def visualize(image_name, constants):\n",
    "    image_rgb = cv2.cvtColor(cv2.imread(image_name), cv2.COLOR_BGR2RGB)\n",
    "    print(\"-\" * 50 + \"\\n\" + \"Original Image:\")\n",
    "    plt.imshow(image_rgb); plt.show() # Displaying the sample image\n",
    "    \n",
    "    image = cv2.cvtColor(image_rgb, cv2.COLOR_RGB2GRAY)\n",
    "    image_m, image_o, image_x, image_y = edge_detection_nms(image, constants.sigma)\n",
    "    \n",
    "    print(\"-\" * 50 + \"\\n\" + \"Edge Image:\")\n",
    "    plt.imshow(image_m, cmap=\"gray\"); plt.show() # Displaying the sample image\n",
    "    \n",
    "    image_m_thres = 1.0*(image_m > constants.thres) # threshold the edge magnitude image\n",
    "    print(\"-\" * 50 + \"\\n\" + \"Thresholded Edge Image:\")\n",
    "    plt.imshow(image_m_thres, cmap=\"gray\"); plt.show() # Displaying the sample image\n",
    "    \n",
    "    #--------------hough transform----------------\n",
    "    H, rho_arr, theta_arr = hough_transform(image_m, constants.thres, constants.rho_res, constants.theta_res)\n",
    "    H = hough_accumulator_nms(H) # nms on H\n",
    "    peak_rho_arr, peak_theta_arr = peak_hough_lines(H, rho_arr, theta_arr, constants.num_lines)\n",
    "    \n",
    "    #--------------vis----------------------------\n",
    "    vis_line_len = 1000 # len of line in pixels, big enough to span the image\n",
    "    vis_image_rgb = np.copy(image_rgb)\n",
    "    for (rho, theta) in zip(peak_rho_arr, peak_theta_arr):\n",
    "        x0 = rho*np.cos(theta); y0 = rho*np.sin(theta)\n",
    "        x1 = int(x0 - vis_line_len*np.sin(theta)); y1 = int(y0 + vis_line_len*np.cos(theta))\n",
    "        x2 = int(x0 + vis_line_len*np.sin(theta)); y2 = int(y0 - vis_line_len*np.cos(theta)); \n",
    "        cv2.line(vis_image_rgb, (x1, y1), (x2, y2), (0, 255, 0), 2)\n",
    "    \n",
    "    #---------------------------------------------\n",
    "    print(\"-\" * 50 + \"\\n\" + \"Edge Image:\")\n",
    "    plt.imshow(vis_image_rgb); plt.show() # Displaying the sample image\n",
    "    \n",
    "    return"
   ]
  },
  {
   "cell_type": "markdown",
   "metadata": {
    "deletable": false,
    "editable": false,
    "nbgrader": {
     "cell_type": "markdown",
     "checksum": "16e8cbbe433cb083bdc65b54c09d25fc",
     "grade": false,
     "grade_id": "cell-668e385c20ef8087",
     "locked": true,
     "schema_version": 3,
     "solution": false,
     "task": false
    }
   },
   "source": [
    "### Q4.1 Non-Maximal Suppression for the Hough Accumulator (5 points)\n",
    "\n",
    "Write a function that modifies the accumulator H suppressing the neighboring lines\n",
    "\n",
    "```\n",
    "  def hough_accumulator_nms(H):\n",
    "        \n",
    "        return H_prime\n",
    "\n",
    "```\n",
    "\n",
    "- **Input**: *$H$* is the accumulator matrix (rhos x thetas),\n",
    "- **Output**: *$H\\_prime$* is the suppressed accumulator matrix (rhos x thetas),\n",
    "\n",
    "**Instructions**\n",
    "- Often for every locally maximal cell in H, there will probably be its neighboring cells which also score highly. \n",
    "- We wish to avoid the selection of these neighboring cells using non maximal suppression.\n",
    "- This NMS step is different than the edge magnitude NMS performed earlier. \n",
    "- Here you will consider all the 8 neighbors of the pixel, not just the pixels lying along the gradient direction.\n",
    "- If for one of the neighbor, H[pixel] < H[neighbor] then set H_prime[pixel] = 0\n",
    "\n"
   ]
  },
  {
   "cell_type": "code",
   "execution_count": null,
   "metadata": {
    "deletable": false,
    "nbgrader": {
     "cell_type": "code",
     "checksum": "4c6e315379938f158cb08ec4d8d11064",
     "grade": false,
     "grade_id": "q4_1_code",
     "locked": false,
     "schema_version": 3,
     "solution": true,
     "task": false
    }
   },
   "outputs": [],
   "source": [
    "def hough_accumulator_nms(H):\n",
    "    \"\"\"Compute Hough Transform for the image\n",
    "\n",
    "    Args:\n",
    "        image_m: np.array, HxW, edge magnitude image.\n",
    "        \n",
    "    Returns:\n",
    "        image_m_prime: np.array, HxW, suppressed edge magnitude image.\n",
    "    \"\"\"\n",
    "    H_prime = np.copy(H) \n",
    "    H_pad = np.pad(H, 1)\n",
    "    neighbor_offsets = [(dy, dx) for dy in range(-1, 2) for dx in range(-1, 2) if (dy != 0 or dx != 0)]\n",
    "    \n",
    "    # compute supression mask per neighbour, 1 to suppress, 0 to keep\n",
    "    # compare H and a part of H_pad, the part of H_pad can be obtained by moving H_pad using the neighbor_offsets\n",
    "    # suppress_masks_per_neighbor = [? for (dy, dx) in neighbor_offsets]\n",
    "    # YOUR CODE HERE\n",
    "    raise NotImplementedError()\n",
    "    \n",
    "    suppress_mask = np.logical_or.reduce(suppress_masks_per_neighbor) # 1 to suppress, 0 to keep\n",
    "    H_prime[suppress_mask] = 0\n",
    "    \n",
    "    return H_prime"
   ]
  },
  {
   "cell_type": "markdown",
   "metadata": {
    "deletable": false,
    "editable": false,
    "nbgrader": {
     "cell_type": "markdown",
     "checksum": "bcc683ca43e7fc6bc85b3ceeba334e1a",
     "grade": false,
     "grade_id": "cell-e6e6efa168cca3d5",
     "locked": true,
     "schema_version": 3,
     "solution": false,
     "task": false
    }
   },
   "source": [
    "### Q4.2 Line Segments for Visualization (15 points)\n",
    "\n",
    "Write a function that visualizes the line segments (unlike the infinite lines from the function provided) on the image \n",
    "Note, this question will not be autograded but manually graded. Please submit the visualization of all 10 images into your writeup for full credit.\n",
    "\n",
    "```\n",
    "  def visualize_line_segments(image_name, constants):\n",
    "        \n",
    "        return vis_image_rgb\n",
    "\n",
    "```\n",
    "\n",
    "- **Input**: *$image\\_name$* is the image path of input image, *$constants$ are the hyperparameters*.\n",
    "- **Output**: *$vis\\_image\\_rgb$* is the visualized image containing line segments.\n",
    "\n",
    "**Instructions**\n",
    "- For each pixel, if it belongs to an edge, for all lines passing through the pixel, try fitting a fixed length small line segment centered at the pixel and match it with the line.\n",
    "- If the pixel passes this check, draw the fixed small line segment on the image.\n",
    "\n",
    "**Grading** Manually done for all the 10 images in the data folder."
   ]
  },
  {
   "cell_type": "code",
   "execution_count": null,
   "metadata": {
    "deletable": false,
    "nbgrader": {
     "cell_type": "code",
     "checksum": "705744ebbc1722832b4613a807dd0e18",
     "grade": true,
     "grade_id": "q4_2_code",
     "locked": false,
     "points": 0,
     "schema_version": 3,
     "solution": true,
     "task": false
    }
   },
   "outputs": [],
   "source": [
    "def visualize_line_segments(image_name, constants):\n",
    "    image_rgb = cv2.cvtColor(cv2.imread(image_name), cv2.COLOR_BGR2RGB)  \n",
    "    image = cv2.cvtColor(image_rgb, cv2.COLOR_RGB2GRAY)\n",
    "    image_m, image_o, image_x, image_y = edge_detection_nms(image, constants.sigma)\n",
    "    vis_image_rgb = np.copy(image_rgb)\n",
    "    \n",
    "    #--------------hough transform----------------\n",
    "    H, rho_arr, theta_arr = hough_transform(image_m, constants.thres, constants.rho_res, constants.theta_res)\n",
    "    H = hough_accumulator_nms(H) # nms on H\n",
    "    peak_rho_arr, peak_theta_arr = peak_hough_lines(H, rho_arr, theta_arr, constants.num_lines)\n",
    "    \n",
    "    # visualize line segments (not infinite lines!)\n",
    "    # vis_image_rgb = ?\n",
    "    \n",
    "    # YOUR CODE HERE\n",
    "    raise NotImplementedError()\n",
    "    \n",
    "    return image_rgb, vis_image_rgb"
   ]
  },
  {
   "cell_type": "markdown",
   "metadata": {
    "deletable": false,
    "editable": false,
    "nbgrader": {
     "cell_type": "markdown",
     "checksum": "0b5a4fb3ca680e822214c9477c3107e9",
     "grade": false,
     "grade_id": "cell-be9792a58d8295e3",
     "locked": true,
     "schema_version": 3,
     "solution": false,
     "task": false
    }
   },
   "source": [
    "### Test Q4.1"
   ]
  },
  {
   "cell_type": "code",
   "execution_count": null,
   "metadata": {
    "deletable": false,
    "editable": false,
    "nbgrader": {
     "cell_type": "code",
     "checksum": "fb4a2178fb99ab7fa40a1ba6a727beb4",
     "grade": false,
     "grade_id": "cell-8a764ce9d3cca675",
     "locked": true,
     "schema_version": 3,
     "solution": false,
     "task": false
    }
   },
   "outputs": [],
   "source": [
    "## TOY TEST!\n",
    "# H = np.random.rand(5, 5)\n",
    "# H_prime = hough_accumulator_nms(H)\n",
    "# print(H); print(H_prime)\n",
    "\n",
    "## Uncomment to visualize\n",
    "# image_idx = np.random.randint(0, len(image_list))\n",
    "# visualize(image_list[image_idx], constants)"
   ]
  },
  {
   "cell_type": "markdown",
   "metadata": {
    "deletable": false,
    "editable": false,
    "nbgrader": {
     "cell_type": "markdown",
     "checksum": "3085c0851f87fe1046a8031947b9887c",
     "grade": false,
     "grade_id": "cell-bdc3be4cd54777f1",
     "locked": true,
     "schema_version": 3,
     "solution": false,
     "task": false
    }
   },
   "source": [
    "### Test Q4.2"
   ]
  },
  {
   "cell_type": "code",
   "execution_count": null,
   "metadata": {
    "deletable": false,
    "nbgrader": {
     "cell_type": "code",
     "checksum": "2b19e70aa93aa9d59909f7d4079a6e18",
     "grade": true,
     "grade_id": "cell-b59fe960bd9e9424",
     "locked": false,
     "points": 0,
     "schema_version": 3,
     "solution": true,
     "task": false
    }
   },
   "outputs": [],
   "source": [
    "# YOUR CODE HERE\n",
    "raise NotImplementedError()"
   ]
  },
  {
   "cell_type": "markdown",
   "metadata": {
    "deletable": false,
    "editable": false,
    "nbgrader": {
     "cell_type": "markdown",
     "checksum": "8172b07146a00ebf5cfe55f85ed3573f",
     "grade": false,
     "grade_id": "cell-d86d4b3d205824eb",
     "locked": true,
     "schema_version": 3,
     "solution": false,
     "task": false
    }
   },
   "source": [
    "### Autograde Q4.1\n",
    "0.5 points per test case, 10 test cases"
   ]
  },
  {
   "cell_type": "code",
   "execution_count": null,
   "metadata": {
    "deletable": false,
    "editable": false,
    "nbgrader": {
     "cell_type": "code",
     "checksum": "464908b7a13b45bb39b0f0e390d6a8ab",
     "grade": true,
     "grade_id": "cell-a985bc7bfd142fa4",
     "locked": true,
     "points": 0,
     "schema_version": 3,
     "solution": false,
     "task": false
    }
   },
   "outputs": [],
   "source": []
  },
  {
   "cell_type": "code",
   "execution_count": null,
   "metadata": {
    "deletable": false,
    "editable": false,
    "nbgrader": {
     "cell_type": "code",
     "checksum": "2378d23dc910ddfe15f731e9e77bef52",
     "grade": true,
     "grade_id": "q4_1_t1",
     "locked": true,
     "points": 0.5,
     "schema_version": 3,
     "solution": false,
     "task": false
    }
   },
   "outputs": [],
   "source": []
  },
  {
   "cell_type": "code",
   "execution_count": null,
   "metadata": {
    "deletable": false,
    "editable": false,
    "nbgrader": {
     "cell_type": "code",
     "checksum": "8b2b47b2dd3b6bbcbfe4fe513912ba05",
     "grade": true,
     "grade_id": "q4_1_t2",
     "locked": true,
     "points": 0.5,
     "schema_version": 3,
     "solution": false,
     "task": false
    }
   },
   "outputs": [],
   "source": []
  },
  {
   "cell_type": "code",
   "execution_count": null,
   "metadata": {
    "deletable": false,
    "editable": false,
    "nbgrader": {
     "cell_type": "code",
     "checksum": "36633a8b6ccdc944419468421e54cf31",
     "grade": true,
     "grade_id": "q4_1_t3",
     "locked": true,
     "points": 0.5,
     "schema_version": 3,
     "solution": false,
     "task": false
    }
   },
   "outputs": [],
   "source": []
  },
  {
   "cell_type": "code",
   "execution_count": null,
   "metadata": {
    "deletable": false,
    "editable": false,
    "nbgrader": {
     "cell_type": "code",
     "checksum": "dc4c60cb50b1098923b06ad754046e5d",
     "grade": true,
     "grade_id": "q4_1_t4",
     "locked": true,
     "points": 0.5,
     "schema_version": 3,
     "solution": false,
     "task": false
    }
   },
   "outputs": [],
   "source": []
  },
  {
   "cell_type": "code",
   "execution_count": null,
   "metadata": {
    "deletable": false,
    "editable": false,
    "nbgrader": {
     "cell_type": "code",
     "checksum": "9f35acb1dc4c19bf793a03187426be74",
     "grade": true,
     "grade_id": "q4_1_t5",
     "locked": true,
     "points": 0.5,
     "schema_version": 3,
     "solution": false,
     "task": false
    }
   },
   "outputs": [],
   "source": []
  },
  {
   "cell_type": "code",
   "execution_count": null,
   "metadata": {
    "deletable": false,
    "editable": false,
    "nbgrader": {
     "cell_type": "code",
     "checksum": "87cd4210a2e0347156e51794830c03cc",
     "grade": true,
     "grade_id": "q4_1_t6",
     "locked": true,
     "points": 0.5,
     "schema_version": 3,
     "solution": false,
     "task": false
    }
   },
   "outputs": [],
   "source": []
  },
  {
   "cell_type": "code",
   "execution_count": null,
   "metadata": {
    "deletable": false,
    "editable": false,
    "nbgrader": {
     "cell_type": "code",
     "checksum": "bbb3127b287badd6a8597f2e7321d497",
     "grade": true,
     "grade_id": "q4_1_t7",
     "locked": true,
     "points": 0.5,
     "schema_version": 3,
     "solution": false,
     "task": false
    }
   },
   "outputs": [],
   "source": []
  },
  {
   "cell_type": "code",
   "execution_count": null,
   "metadata": {
    "deletable": false,
    "editable": false,
    "nbgrader": {
     "cell_type": "code",
     "checksum": "0f39f78bc3fa52540b556183dc5cec6a",
     "grade": true,
     "grade_id": "q4_1_t8",
     "locked": true,
     "points": 0.5,
     "schema_version": 3,
     "solution": false,
     "task": false
    }
   },
   "outputs": [],
   "source": []
  },
  {
   "cell_type": "code",
   "execution_count": null,
   "metadata": {
    "deletable": false,
    "editable": false,
    "nbgrader": {
     "cell_type": "code",
     "checksum": "6bf4e1b64cc59a962a26b0457e048bb1",
     "grade": true,
     "grade_id": "q4_1_t9",
     "locked": true,
     "points": 0.5,
     "schema_version": 3,
     "solution": false,
     "task": false
    }
   },
   "outputs": [],
   "source": []
  },
  {
   "cell_type": "code",
   "execution_count": null,
   "metadata": {
    "deletable": false,
    "editable": false,
    "nbgrader": {
     "cell_type": "code",
     "checksum": "30307358a43c6cd49a92294a239ae6fd",
     "grade": true,
     "grade_id": "q4_1_t10",
     "locked": true,
     "points": 0.5,
     "schema_version": 3,
     "solution": false,
     "task": false
    }
   },
   "outputs": [],
   "source": []
  },
  {
   "cell_type": "markdown",
   "metadata": {
    "deletable": false,
    "nbgrader": {
     "cell_type": "markdown",
     "checksum": "4690dbc2b7e50dddc75fdf54ac62d657",
     "grade": true,
     "grade_id": "q4_2",
     "locked": false,
     "points": 15,
     "schema_version": 3,
     "solution": true,
     "task": false
    }
   },
   "source": [
    "YOUR ANSWER HERE"
   ]
  }
 ],
 "metadata": {
  "kernelspec": {
   "display_name": "Python 3",
   "language": "python",
   "name": "python3"
  },
  "language_info": {
   "codemirror_mode": {
    "name": "ipython",
    "version": 3
   },
   "file_extension": ".py",
   "mimetype": "text/x-python",
   "name": "python",
   "nbconvert_exporter": "python",
   "pygments_lexer": "ipython3",
   "version": "3.8.5"
  },
  "toc": {
   "base_numbering": 1,
   "nav_menu": {},
   "number_sections": true,
   "sideBar": true,
   "skip_h1_title": false,
   "title_cell": "Table of Contents",
   "title_sidebar": "Contents",
   "toc_cell": false,
   "toc_position": {
    "height": "calc(100% - 180px)",
    "left": "10px",
    "top": "150px",
    "width": "384px"
   },
   "toc_section_display": true,
   "toc_window_display": true
  }
 },
 "nbformat": 4,
 "nbformat_minor": 4
}
