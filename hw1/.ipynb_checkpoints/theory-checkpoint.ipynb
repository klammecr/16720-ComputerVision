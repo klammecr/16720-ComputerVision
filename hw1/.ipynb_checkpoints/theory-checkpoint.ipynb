{
 "cells": [
  {
   "cell_type": "code",
   "execution_count": null,
   "metadata": {},
   "outputs": [],
   "source": []
  },
  {
   "cell_type": "markdown",
   "metadata": {
    "deletable": false,
    "editable": false,
    "nbgrader": {
     "cell_type": "markdown",
     "checksum": "4c15d1647e4568db3fd00a3cb5887da3",
     "grade": false,
     "grade_id": "header",
     "locked": true,
     "schema_version": 3,
     "solution": false,
     "task": false
    }
   },
   "source": [
    "<img align=\"center\" src=\"data/handout/course.png\" width=\"800\">\n",
    "\n",
    "## Hough Transform - Assignment 1\n",
    "    Instructor: Kris                          TAs: Arka, Jinkun, Rawal, Rohan, Sheng-Yu\n",
    "\n",
    "In this assignment you will be implementing a Hough Transform based line detector. \n",
    "\n",
    "<img align=\"center\" src=\"data/handout/ht.gif\" width=\"500\">"
   ]
  },
  {
   "cell_type": "markdown",
   "metadata": {
    "deletable": false,
    "editable": false,
    "nbgrader": {
     "cell_type": "markdown",
     "checksum": "e7774173427921d9605c9d2d8c92b534",
     "grade": false,
     "grade_id": "cell-ee45598a54db40ca",
     "locked": true,
     "schema_version": 3,
     "solution": false,
     "task": false
    }
   },
   "source": [
    "---\n",
    "## Theory Questions (25 points)\n",
    "**Grading**: \n",
    "- Each question is 5 points. \n",
    "- Please add your answers to the writeup. Insert images whenever necessary.\n",
    "- Show all your work to obtain full credit."
   ]
  },
  {
   "cell_type": "markdown",
   "metadata": {
    "deletable": false,
    "editable": false,
    "nbgrader": {
     "cell_type": "markdown",
     "checksum": "6d8a7b9a156280b230e157fb68b81da1",
     "grade": false,
     "grade_id": "theory_q1",
     "locked": true,
     "schema_version": 3,
     "solution": false,
     "task": false
    }
   },
   "source": [
    "**Q1**: Show that using $ x\\cos \\theta + y \\sin \\theta - \\rho = 0 $, each image point $(x, y)$ results in a sinsuoid in $(\\rho, \\theta)$ hough space.  \n",
    "Use the formulation, $a \\sin \\theta + b \\cos \\theta = A \\sin(\\theta + \\phi)$ for the sinsuoid.  \n",
    "Write the amplitude \\\\(A \\\\) and phase \\\\( \\phi \\\\) of the sinusoid as a function of \\\\( (x, y) \\\\). "
   ]
  },
  {
   "cell_type": "markdown",
   "metadata": {
    "deletable": false,
    "nbgrader": {
     "cell_type": "markdown",
     "checksum": "b2fff622dd362c71d4a7709f51ac1b55",
     "grade": true,
     "grade_id": "theory_q1_ans",
     "locked": false,
     "points": 5,
     "schema_version": 3,
     "solution": true,
     "task": false
    }
   },
   "source": [
    "xcos𝜃 + 𝑦sin𝜃 = 𝜌\n",
    "Asin(𝜃+𝜙) = 𝜌\n",
    "A = 𝜌 / sin(𝜃+𝜙)\n",
    "A = 𝜌 / sin(theta)cos(phi) + cos(theta)sin(phi)\n",
    "A = 𝜌 / (p)\n",
    "\n"
   ]
  },
  {
   "cell_type": "markdown",
   "metadata": {
    "deletable": false,
    "editable": false,
    "nbgrader": {
     "cell_type": "markdown",
     "checksum": "8f1899fd8b2e4e3dd9079c2447eed607",
     "grade": false,
     "grade_id": "theory_q2",
     "locked": true,
     "schema_version": 3,
     "solution": false,
     "task": false
    }
   },
   "source": [
    "**Q2**: Why do we parameterize the line in terms of \\\\(\\rho, \\theta\\\\) instead of slope and intercept \\\\((m, c)\\\\)?  \n",
    "Also write the slope \\\\(m\\\\) and intercept \\\\(c\\\\) as a function of \\\\(\\rho\\\\) and \\\\(\\theta\\\\). "
   ]
  },
  {
   "cell_type": "markdown",
   "metadata": {
    "deletable": false,
    "nbgrader": {
     "cell_type": "markdown",
     "checksum": "55f8ec0f1a1d3026da42762e3309b17e",
     "grade": true,
     "grade_id": "theory_q2_ans",
     "locked": false,
     "points": 5,
     "schema_version": 3,
     "solution": true,
     "task": false
    }
   },
   "source": [
    "If we have a point (x,y) and we are finding parameters m (slope) and c (intercept) that correspond to that point (pass through that point), We could potentially have an infinite number of values for m that line which would make our accumulator array extremely large and require a lot of computations.\n",
    "\n",
    "b = y - mx\n",
    "\n",
    "m = (y-b)/x "
   ]
  },
  {
   "cell_type": "markdown",
   "metadata": {
    "deletable": false,
    "editable": false,
    "nbgrader": {
     "cell_type": "markdown",
     "checksum": "576d611c2a9de50619a0596b22673783",
     "grade": false,
     "grade_id": "theory_q3",
     "locked": true,
     "schema_version": 3,
     "solution": false,
     "task": false
    }
   },
   "source": [
    "**Q3**: Assume the image points \\\\((x, y)\\\\) are in an image of width \\\\(W\\\\) and height \\\\(H\\\\), \\\\(x \\in [1, W], y \\in [1, H]\\\\).  \n",
    "What is the maximum absolute value of \\\\(\\rho\\\\) and what is the range of \\\\(\\theta\\\\)?"
   ]
  },
  {
   "cell_type": "markdown",
   "metadata": {
    "deletable": false,
    "nbgrader": {
     "cell_type": "markdown",
     "checksum": "57ae4a7360308f9ea4ffde5d34fa0a3e",
     "grade": true,
     "grade_id": "theory_q3_ans",
     "locked": false,
     "points": 5,
     "schema_version": 3,
     "solution": true,
     "task": false
    }
   },
   "source": [
    "The maximum absolute value of p would be the distance of the straight line from one corner of the image to another.\n",
    "\n"
   ]
  },
  {
   "cell_type": "markdown",
   "metadata": {
    "deletable": false,
    "editable": false,
    "nbgrader": {
     "cell_type": "markdown",
     "checksum": "c504a8b632334522118747924e9e249e",
     "grade": false,
     "grade_id": "theory_q4",
     "locked": true,
     "schema_version": 3,
     "solution": false,
     "task": false
    }
   },
   "source": [
    "**Q4**: For points $(10, 10)$, $(15, 15)$ and $(30, 30)$ in the image, plot the corresponding sinusoid waves in Hough space $(\\rho, \\theta)$.  \n",
    "Also visualize how their intersection point defines the line (what is ($m, c$) for this line?).  \n",
    "Please add the plot as image."
   ]
  },
  {
   "cell_type": "markdown",
   "metadata": {
    "deletable": false,
    "nbgrader": {
     "cell_type": "markdown",
     "checksum": "a5145d792542757d2b951105d48cbbcb",
     "grade": true,
     "grade_id": "theory_q4_ans",
     "locked": false,
     "points": 5,
     "schema_version": 3,
     "solution": true,
     "task": false
    }
   },
   "source": [
    "YOUR ANSWER HERE"
   ]
  },
  {
   "cell_type": "markdown",
   "metadata": {
    "deletable": false,
    "editable": false,
    "nbgrader": {
     "cell_type": "markdown",
     "checksum": "5cc16b8a2cb6668755507b6b2a4df324",
     "grade": false,
     "grade_id": "theory_q5",
     "locked": true,
     "schema_version": 3,
     "solution": false,
     "task": false
    }
   },
   "source": [
    "**Q5**: How does the dimension of parameter space affects Hough Transform method? What would you do when the parameter space is high, i.e., 3D or 4D instead of 2D? Briefly explain your method."
   ]
  },
  {
   "cell_type": "markdown",
   "metadata": {
    "deletable": false,
    "nbgrader": {
     "cell_type": "markdown",
     "checksum": "8c8bb0c0b11471122110f0a30f039b46",
     "grade": true,
     "grade_id": "theory_q5_ans",
     "locked": false,
     "points": 5,
     "schema_version": 3,
     "solution": true,
     "task": false
    }
   },
   "source": [
    "The dimension of the parameter space will exponentially increase computation time and make the accumulator array sparser. If we have two parameters, we have an accumulator array with two dimensions. If we have additional paramters, our accumulator array will also need to account for those additional parameters to accurately capture all combinations of parameters. Thus, our accumulator array will likely become much more sparse. We can visualize why it would become more sparse with a simple visualization. Say we have a 2D sinsusoidal response with a few bright spots (points) that correspond to the overlap of the sinusoids, dictating where a line edge is in paramter space. Well, if we add an arbritrary dummy parameter (say that does nothing, just adds another dimension to the graph) our response will lie in a plane while the rest of the parameter space (the other planes) are empty. So, unless we are adding a lot of information when introducing this new parameter, we can expect the array to be much sparser and complex to find the edges.\n",
    "\n",
    "In a 3D or 4D parameter space, the algorithm would need to change to find the overlap of sinusoidal surfaces in a similar voting method. \n",
    "1. Instead of searching the entire parameter space. We could possibly search a 2D parameter space (maybe precompute something to see which two parameters are the densest?) and fix the other parameters to possibly create a set of \"maximal candidates\" then add further confidence by searching those maximal candidates over the range of the parameters previously kept fixed. This is a search heuristic but possibly could have semi-reliable results.\n",
    "2. Use PCA or some other dimensionality reduction then stick to the previous algorithm over the reduced parameter space\n",
    "3. Hill-climbing or some other greedy search algorithm which will look for local extrema, moving along the derivatives of votes throughout the parameter space. Possibling randomly initializing the starting point in parameter space N times then look at which points in the parameter space are the most common "
   ]
  }
 ],
 "metadata": {
  "kernelspec": {
   "display_name": "Python 3 (ipykernel)",
   "language": "python",
   "name": "python3"
  },
  "language_info": {
   "codemirror_mode": {
    "name": "ipython",
    "version": 3
   },
   "file_extension": ".py",
   "mimetype": "text/x-python",
   "name": "python",
   "nbconvert_exporter": "python",
   "pygments_lexer": "ipython3",
   "version": "3.9.13"
  },
  "toc": {
   "base_numbering": 1,
   "nav_menu": {},
   "number_sections": true,
   "sideBar": true,
   "skip_h1_title": false,
   "title_cell": "Table of Contents",
   "title_sidebar": "Contents",
   "toc_cell": false,
   "toc_position": {
    "height": "calc(100% - 180px)",
    "left": "10px",
    "top": "150px",
    "width": "384px"
   },
   "toc_section_display": true,
   "toc_window_display": true
  }
 },
 "nbformat": 4,
 "nbformat_minor": 4
}
